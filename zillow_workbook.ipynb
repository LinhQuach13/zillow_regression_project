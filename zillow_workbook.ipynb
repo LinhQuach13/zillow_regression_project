{
 "cells": [
  {
   "cell_type": "code",
   "execution_count": 2,
   "metadata": {},
   "outputs": [],
   "source": [
    "import pandas as pd\n",
    "import numpy as np\n",
    "import os\n",
    "from scipy import stats\n",
    "import math\n",
    "# acquire\n",
    "from env import host, user, password\n",
    "from pydataset import data\n",
    "\n",
    "# visualize\n",
    "import seaborn as sns\n",
    "import matplotlib.pyplot as plt\n",
    "plt.rc('figure', figsize=(11, 9))\n",
    "plt.rc('font', size=13)\n",
    "\n",
    "# turn off pink warning boxes\n",
    "import warnings\n",
    "warnings.filterwarnings(\"ignore\")\n",
    "\n",
    "from sklearn.preprocessing import MinMaxScaler, RobustScaler, StandardScaler\n",
    "from sklearn.feature_selection import SelectKBest, f_regression\n",
    "from sklearn.linear_model import LinearRegression, LassoLars, TweedieRegressor\n",
    "from sklearn.metrics import r2_score, mean_squared_error\n",
    "\n",
    "import acquire"
   ]
  },
  {
   "cell_type": "markdown",
   "metadata": {},
   "source": [
    "# Acquire"
   ]
  },
  {
   "cell_type": "code",
   "execution_count": 3,
   "metadata": {},
   "outputs": [],
   "source": [
    "#acquire for zillow\n",
    "zillow_df= acquire.get_zillow_data()"
   ]
  },
  {
   "cell_type": "code",
   "execution_count": 4,
   "metadata": {},
   "outputs": [
    {
     "data": {
      "text/html": [
       "<div>\n",
       "<style scoped>\n",
       "    .dataframe tbody tr th:only-of-type {\n",
       "        vertical-align: middle;\n",
       "    }\n",
       "\n",
       "    .dataframe tbody tr th {\n",
       "        vertical-align: top;\n",
       "    }\n",
       "\n",
       "    .dataframe thead th {\n",
       "        text-align: right;\n",
       "    }\n",
       "</style>\n",
       "<table border=\"1\" class=\"dataframe\">\n",
       "  <thead>\n",
       "    <tr style=\"text-align: right;\">\n",
       "      <th></th>\n",
       "      <th>bedroomcnt</th>\n",
       "      <th>bathroomcnt</th>\n",
       "      <th>calculatedfinishedsquarefeet</th>\n",
       "      <th>taxvaluedollarcnt</th>\n",
       "      <th>yearbuilt</th>\n",
       "      <th>taxamount</th>\n",
       "      <th>fips</th>\n",
       "      <th>parcelid</th>\n",
       "    </tr>\n",
       "  </thead>\n",
       "  <tbody>\n",
       "    <tr>\n",
       "      <th>0</th>\n",
       "      <td>3.0</td>\n",
       "      <td>2.0</td>\n",
       "      <td>1316.0</td>\n",
       "      <td>205123.0</td>\n",
       "      <td>1923.0</td>\n",
       "      <td>2627.48</td>\n",
       "      <td>6037.0</td>\n",
       "      <td>11721753</td>\n",
       "    </tr>\n",
       "    <tr>\n",
       "      <th>1</th>\n",
       "      <td>3.0</td>\n",
       "      <td>2.0</td>\n",
       "      <td>1458.0</td>\n",
       "      <td>136104.0</td>\n",
       "      <td>1970.0</td>\n",
       "      <td>2319.90</td>\n",
       "      <td>6037.0</td>\n",
       "      <td>11289917</td>\n",
       "    </tr>\n",
       "    <tr>\n",
       "      <th>2</th>\n",
       "      <td>2.0</td>\n",
       "      <td>1.0</td>\n",
       "      <td>1421.0</td>\n",
       "      <td>35606.0</td>\n",
       "      <td>1911.0</td>\n",
       "      <td>543.69</td>\n",
       "      <td>6037.0</td>\n",
       "      <td>11705026</td>\n",
       "    </tr>\n",
       "    <tr>\n",
       "      <th>3</th>\n",
       "      <td>4.0</td>\n",
       "      <td>3.0</td>\n",
       "      <td>2541.0</td>\n",
       "      <td>880456.0</td>\n",
       "      <td>2003.0</td>\n",
       "      <td>9819.72</td>\n",
       "      <td>6059.0</td>\n",
       "      <td>14269464</td>\n",
       "    </tr>\n",
       "    <tr>\n",
       "      <th>4</th>\n",
       "      <td>3.0</td>\n",
       "      <td>2.0</td>\n",
       "      <td>1491.0</td>\n",
       "      <td>107110.0</td>\n",
       "      <td>1955.0</td>\n",
       "      <td>1399.27</td>\n",
       "      <td>6037.0</td>\n",
       "      <td>11446756</td>\n",
       "    </tr>\n",
       "  </tbody>\n",
       "</table>\n",
       "</div>"
      ],
      "text/plain": [
       "   bedroomcnt  bathroomcnt  calculatedfinishedsquarefeet  taxvaluedollarcnt  \\\n",
       "0         3.0          2.0                        1316.0           205123.0   \n",
       "1         3.0          2.0                        1458.0           136104.0   \n",
       "2         2.0          1.0                        1421.0            35606.0   \n",
       "3         4.0          3.0                        2541.0           880456.0   \n",
       "4         3.0          2.0                        1491.0           107110.0   \n",
       "\n",
       "   yearbuilt  taxamount    fips  parcelid  \n",
       "0     1923.0    2627.48  6037.0  11721753  \n",
       "1     1970.0    2319.90  6037.0  11289917  \n",
       "2     1911.0     543.69  6037.0  11705026  \n",
       "3     2003.0    9819.72  6059.0  14269464  \n",
       "4     1955.0    1399.27  6037.0  11446756  "
      ]
     },
     "execution_count": 4,
     "metadata": {},
     "output_type": "execute_result"
    }
   ],
   "source": [
    "#Looking at first 5 values\n",
    "zillow_df.head()"
   ]
  },
  {
   "cell_type": "code",
   "execution_count": 5,
   "metadata": {},
   "outputs": [
    {
     "data": {
      "text/plain": [
       "(28418, 8)"
      ]
     },
     "execution_count": 5,
     "metadata": {},
     "output_type": "execute_result"
    }
   ],
   "source": [
    "#28,000 rows and 8 columns\n",
    "zillow_df.shape"
   ]
  },
  {
   "cell_type": "code",
   "execution_count": 6,
   "metadata": {},
   "outputs": [
    {
     "data": {
      "text/html": [
       "<div>\n",
       "<style scoped>\n",
       "    .dataframe tbody tr th:only-of-type {\n",
       "        vertical-align: middle;\n",
       "    }\n",
       "\n",
       "    .dataframe tbody tr th {\n",
       "        vertical-align: top;\n",
       "    }\n",
       "\n",
       "    .dataframe thead th {\n",
       "        text-align: right;\n",
       "    }\n",
       "</style>\n",
       "<table border=\"1\" class=\"dataframe\">\n",
       "  <thead>\n",
       "    <tr style=\"text-align: right;\">\n",
       "      <th></th>\n",
       "      <th>count</th>\n",
       "      <th>mean</th>\n",
       "      <th>std</th>\n",
       "      <th>min</th>\n",
       "      <th>25%</th>\n",
       "      <th>50%</th>\n",
       "      <th>75%</th>\n",
       "      <th>max</th>\n",
       "    </tr>\n",
       "  </thead>\n",
       "  <tbody>\n",
       "    <tr>\n",
       "      <th>bedroomcnt</th>\n",
       "      <td>28418.0</td>\n",
       "      <td>3.298086e+00</td>\n",
       "      <td>9.547586e-01</td>\n",
       "      <td>0.00</td>\n",
       "      <td>3.00</td>\n",
       "      <td>3.0</td>\n",
       "      <td>4.00</td>\n",
       "      <td>1.200000e+01</td>\n",
       "    </tr>\n",
       "    <tr>\n",
       "      <th>bathroomcnt</th>\n",
       "      <td>28418.0</td>\n",
       "      <td>2.311070e+00</td>\n",
       "      <td>1.017817e+00</td>\n",
       "      <td>0.00</td>\n",
       "      <td>2.00</td>\n",
       "      <td>2.0</td>\n",
       "      <td>3.00</td>\n",
       "      <td>1.100000e+01</td>\n",
       "    </tr>\n",
       "    <tr>\n",
       "      <th>calculatedfinishedsquarefeet</th>\n",
       "      <td>28345.0</td>\n",
       "      <td>1.931781e+03</td>\n",
       "      <td>1.013657e+03</td>\n",
       "      <td>240.00</td>\n",
       "      <td>1276.00</td>\n",
       "      <td>1669.0</td>\n",
       "      <td>2319.00</td>\n",
       "      <td>3.564000e+04</td>\n",
       "    </tr>\n",
       "    <tr>\n",
       "      <th>taxvaluedollarcnt</th>\n",
       "      <td>28417.0</td>\n",
       "      <td>5.332912e+05</td>\n",
       "      <td>7.063144e+05</td>\n",
       "      <td>1000.00</td>\n",
       "      <td>198412.00</td>\n",
       "      <td>380733.0</td>\n",
       "      <td>630000.00</td>\n",
       "      <td>2.385837e+07</td>\n",
       "    </tr>\n",
       "    <tr>\n",
       "      <th>yearbuilt</th>\n",
       "      <td>28322.0</td>\n",
       "      <td>1.963908e+03</td>\n",
       "      <td>2.307474e+01</td>\n",
       "      <td>1878.00</td>\n",
       "      <td>1950.00</td>\n",
       "      <td>1961.0</td>\n",
       "      <td>1980.00</td>\n",
       "      <td>2.016000e+03</td>\n",
       "    </tr>\n",
       "    <tr>\n",
       "      <th>taxamount</th>\n",
       "      <td>28417.0</td>\n",
       "      <td>6.486383e+03</td>\n",
       "      <td>8.209046e+03</td>\n",
       "      <td>51.26</td>\n",
       "      <td>2690.92</td>\n",
       "      <td>4703.7</td>\n",
       "      <td>7495.44</td>\n",
       "      <td>2.767978e+05</td>\n",
       "    </tr>\n",
       "    <tr>\n",
       "      <th>fips</th>\n",
       "      <td>28418.0</td>\n",
       "      <td>6.050004e+03</td>\n",
       "      <td>2.191571e+01</td>\n",
       "      <td>6037.00</td>\n",
       "      <td>6037.00</td>\n",
       "      <td>6037.0</td>\n",
       "      <td>6059.00</td>\n",
       "      <td>6.111000e+03</td>\n",
       "    </tr>\n",
       "    <tr>\n",
       "      <th>parcelid</th>\n",
       "      <td>28418.0</td>\n",
       "      <td>1.307361e+07</td>\n",
       "      <td>3.747577e+06</td>\n",
       "      <td>10711855.00</td>\n",
       "      <td>11523237.25</td>\n",
       "      <td>12611531.0</td>\n",
       "      <td>14163710.25</td>\n",
       "      <td>1.676878e+08</td>\n",
       "    </tr>\n",
       "  </tbody>\n",
       "</table>\n",
       "</div>"
      ],
      "text/plain": [
       "                                count          mean           std  \\\n",
       "bedroomcnt                    28418.0  3.298086e+00  9.547586e-01   \n",
       "bathroomcnt                   28418.0  2.311070e+00  1.017817e+00   \n",
       "calculatedfinishedsquarefeet  28345.0  1.931781e+03  1.013657e+03   \n",
       "taxvaluedollarcnt             28417.0  5.332912e+05  7.063144e+05   \n",
       "yearbuilt                     28322.0  1.963908e+03  2.307474e+01   \n",
       "taxamount                     28417.0  6.486383e+03  8.209046e+03   \n",
       "fips                          28418.0  6.050004e+03  2.191571e+01   \n",
       "parcelid                      28418.0  1.307361e+07  3.747577e+06   \n",
       "\n",
       "                                      min          25%         50%  \\\n",
       "bedroomcnt                           0.00         3.00         3.0   \n",
       "bathroomcnt                          0.00         2.00         2.0   \n",
       "calculatedfinishedsquarefeet       240.00      1276.00      1669.0   \n",
       "taxvaluedollarcnt                 1000.00    198412.00    380733.0   \n",
       "yearbuilt                         1878.00      1950.00      1961.0   \n",
       "taxamount                           51.26      2690.92      4703.7   \n",
       "fips                              6037.00      6037.00      6037.0   \n",
       "parcelid                      10711855.00  11523237.25  12611531.0   \n",
       "\n",
       "                                      75%           max  \n",
       "bedroomcnt                           4.00  1.200000e+01  \n",
       "bathroomcnt                          3.00  1.100000e+01  \n",
       "calculatedfinishedsquarefeet      2319.00  3.564000e+04  \n",
       "taxvaluedollarcnt               630000.00  2.385837e+07  \n",
       "yearbuilt                         1980.00  2.016000e+03  \n",
       "taxamount                         7495.44  2.767978e+05  \n",
       "fips                              6059.00  6.111000e+03  \n",
       "parcelid                      14163710.25  1.676878e+08  "
      ]
     },
     "execution_count": 6,
     "metadata": {},
     "output_type": "execute_result"
    }
   ],
   "source": [
    "# Displaying readable summary statistics for numeric columns.\n",
    "zillow_df.describe().T"
   ]
  },
  {
   "cell_type": "code",
   "execution_count": 7,
   "metadata": {},
   "outputs": [
    {
     "name": "stdout",
     "output_type": "stream",
     "text": [
      "<class 'pandas.core.frame.DataFrame'>\n",
      "RangeIndex: 28418 entries, 0 to 28417\n",
      "Data columns (total 8 columns):\n",
      " #   Column                        Non-Null Count  Dtype  \n",
      "---  ------                        --------------  -----  \n",
      " 0   bedroomcnt                    28418 non-null  float64\n",
      " 1   bathroomcnt                   28418 non-null  float64\n",
      " 2   calculatedfinishedsquarefeet  28345 non-null  float64\n",
      " 3   taxvaluedollarcnt             28417 non-null  float64\n",
      " 4   yearbuilt                     28322 non-null  float64\n",
      " 5   taxamount                     28417 non-null  float64\n",
      " 6   fips                          28418 non-null  float64\n",
      " 7   parcelid                      28418 non-null  int64  \n",
      "dtypes: float64(7), int64(1)\n",
      "memory usage: 1.7 MB\n"
     ]
    }
   ],
   "source": [
    "# Running .info() shows us that the exam3 column is not a numeric data type; it's an object.\n",
    "\n",
    "zillow_df.info()"
   ]
  },
  {
   "cell_type": "code",
   "execution_count": 8,
   "metadata": {},
   "outputs": [
    {
     "data": {
      "text/plain": [
       "bedroomcnt                       0\n",
       "bathroomcnt                      0\n",
       "calculatedfinishedsquarefeet    73\n",
       "taxvaluedollarcnt                1\n",
       "yearbuilt                       96\n",
       "taxamount                        1\n",
       "fips                             0\n",
       "parcelid                         0\n",
       "dtype: int64"
      ]
     },
     "execution_count": 8,
     "metadata": {},
     "output_type": "execute_result"
    }
   ],
   "source": [
    "#Looking at how many nulls in each column\n",
    "zillow_df.isnull().sum()"
   ]
  },
  {
   "cell_type": "code",
   "execution_count": 9,
   "metadata": {},
   "outputs": [
    {
     "data": {
      "text/plain": [
       "28405"
      ]
     },
     "execution_count": 9,
     "metadata": {},
     "output_type": "execute_result"
    }
   ],
   "source": [
    "# Count duplicate on a bedroom count column\n",
    "zillow_df.bedroomcnt.duplicated().sum()"
   ]
  },
  {
   "cell_type": "code",
   "execution_count": 10,
   "metadata": {},
   "outputs": [
    {
     "data": {
      "text/plain": [
       "28398"
      ]
     },
     "execution_count": 10,
     "metadata": {},
     "output_type": "execute_result"
    }
   ],
   "source": [
    "# Count duplicate on a bathroom count column\n",
    "zillow_df.bathroomcnt.duplicated().sum()"
   ]
  },
  {
   "cell_type": "code",
   "execution_count": 11,
   "metadata": {},
   "outputs": [
    {
     "data": {
      "text/plain": [
       "24360"
      ]
     },
     "execution_count": 11,
     "metadata": {},
     "output_type": "execute_result"
    }
   ],
   "source": [
    "# Count duplicate on a calculatedfinishedsquarefeet column\n",
    "zillow_df.calculatedfinishedsquarefeet.duplicated().sum()"
   ]
  },
  {
   "cell_type": "code",
   "execution_count": 12,
   "metadata": {},
   "outputs": [
    {
     "data": {
      "text/plain": [
       "5484"
      ]
     },
     "execution_count": 12,
     "metadata": {},
     "output_type": "execute_result"
    }
   ],
   "source": [
    "# Count duplicate on a taxvaluedollarcnt column\n",
    "zillow_df.taxvaluedollarcnt.duplicated().sum()"
   ]
  },
  {
   "cell_type": "code",
   "execution_count": 13,
   "metadata": {},
   "outputs": [
    {
     "name": "stdout",
     "output_type": "stream",
     "text": [
      " \n",
      "    bedroomcnt count: 28405\n",
      " \n",
      "    bathroomcnt count: 28398\n",
      " \n",
      "    calculatedfinishedsquarefeet count: 24360\n",
      " \n",
      "    taxvaluedollarcnt count: 5484\n",
      " \n",
      "    yearbuilt count: 28286\n",
      " \n",
      "    taxamount count: 479\n",
      " \n",
      "    fips count: 28415\n",
      " \n",
      "    parcelid count: 26\n"
     ]
    }
   ],
   "source": [
    "#created a for loop that goes through each column and counts the duplicates\n",
    "for cols in zillow_df: \n",
    "    count= zillow_df[cols].duplicated().sum()\n",
    "    print(f''' \n",
    "    {cols} count: {count}''')\n",
    "    "
   ]
  },
  {
   "cell_type": "code",
   "execution_count": 14,
   "metadata": {},
   "outputs": [
    {
     "data": {
      "text/html": [
       "<div>\n",
       "<style scoped>\n",
       "    .dataframe tbody tr th:only-of-type {\n",
       "        vertical-align: middle;\n",
       "    }\n",
       "\n",
       "    .dataframe tbody tr th {\n",
       "        vertical-align: top;\n",
       "    }\n",
       "\n",
       "    .dataframe thead th {\n",
       "        text-align: right;\n",
       "    }\n",
       "</style>\n",
       "<table border=\"1\" class=\"dataframe\">\n",
       "  <thead>\n",
       "    <tr style=\"text-align: right;\">\n",
       "      <th></th>\n",
       "      <th>bedroomcnt</th>\n",
       "      <th>bathroomcnt</th>\n",
       "      <th>calculatedfinishedsquarefeet</th>\n",
       "      <th>taxvaluedollarcnt</th>\n",
       "      <th>yearbuilt</th>\n",
       "      <th>taxamount</th>\n",
       "      <th>fips</th>\n",
       "      <th>parcelid</th>\n",
       "    </tr>\n",
       "  </thead>\n",
       "  <tbody>\n",
       "    <tr>\n",
       "      <th>325</th>\n",
       "      <td>2.0</td>\n",
       "      <td>1.0</td>\n",
       "      <td>1082.0</td>\n",
       "      <td>314100.0</td>\n",
       "      <td>1921.0</td>\n",
       "      <td>3731.14</td>\n",
       "      <td>6037.0</td>\n",
       "      <td>12102046</td>\n",
       "    </tr>\n",
       "    <tr>\n",
       "      <th>417</th>\n",
       "      <td>3.0</td>\n",
       "      <td>2.0</td>\n",
       "      <td>1780.0</td>\n",
       "      <td>347615.0</td>\n",
       "      <td>1977.0</td>\n",
       "      <td>4538.95</td>\n",
       "      <td>6037.0</td>\n",
       "      <td>12847318</td>\n",
       "    </tr>\n",
       "    <tr>\n",
       "      <th>526</th>\n",
       "      <td>4.0</td>\n",
       "      <td>2.5</td>\n",
       "      <td>2217.0</td>\n",
       "      <td>98707.0</td>\n",
       "      <td>1972.0</td>\n",
       "      <td>1343.64</td>\n",
       "      <td>6059.0</td>\n",
       "      <td>14050918</td>\n",
       "    </tr>\n",
       "    <tr>\n",
       "      <th>881</th>\n",
       "      <td>2.0</td>\n",
       "      <td>1.0</td>\n",
       "      <td>1166.0</td>\n",
       "      <td>324880.0</td>\n",
       "      <td>1911.0</td>\n",
       "      <td>4042.46</td>\n",
       "      <td>6037.0</td>\n",
       "      <td>11717962</td>\n",
       "    </tr>\n",
       "    <tr>\n",
       "      <th>1069</th>\n",
       "      <td>4.0</td>\n",
       "      <td>3.5</td>\n",
       "      <td>3453.0</td>\n",
       "      <td>939019.0</td>\n",
       "      <td>2006.0</td>\n",
       "      <td>14702.96</td>\n",
       "      <td>6059.0</td>\n",
       "      <td>14455319</td>\n",
       "    </tr>\n",
       "    <tr>\n",
       "      <th>1446</th>\n",
       "      <td>2.0</td>\n",
       "      <td>1.0</td>\n",
       "      <td>1025.0</td>\n",
       "      <td>48107.0</td>\n",
       "      <td>1940.0</td>\n",
       "      <td>862.90</td>\n",
       "      <td>6059.0</td>\n",
       "      <td>14074415</td>\n",
       "    </tr>\n",
       "    <tr>\n",
       "      <th>1670</th>\n",
       "      <td>4.0</td>\n",
       "      <td>3.0</td>\n",
       "      <td>2717.0</td>\n",
       "      <td>733000.0</td>\n",
       "      <td>1998.0</td>\n",
       "      <td>8314.78</td>\n",
       "      <td>6111.0</td>\n",
       "      <td>17225336</td>\n",
       "    </tr>\n",
       "    <tr>\n",
       "      <th>1964</th>\n",
       "      <td>4.0</td>\n",
       "      <td>4.0</td>\n",
       "      <td>2459.0</td>\n",
       "      <td>479000.0</td>\n",
       "      <td>2007.0</td>\n",
       "      <td>12285.88</td>\n",
       "      <td>6111.0</td>\n",
       "      <td>162960529</td>\n",
       "    </tr>\n",
       "    <tr>\n",
       "      <th>3220</th>\n",
       "      <td>2.0</td>\n",
       "      <td>1.0</td>\n",
       "      <td>1228.0</td>\n",
       "      <td>486805.0</td>\n",
       "      <td>1918.0</td>\n",
       "      <td>5892.10</td>\n",
       "      <td>6037.0</td>\n",
       "      <td>12537644</td>\n",
       "    </tr>\n",
       "    <tr>\n",
       "      <th>3825</th>\n",
       "      <td>3.0</td>\n",
       "      <td>3.5</td>\n",
       "      <td>4373.0</td>\n",
       "      <td>5279300.0</td>\n",
       "      <td>1988.0</td>\n",
       "      <td>55756.66</td>\n",
       "      <td>6059.0</td>\n",
       "      <td>13893511</td>\n",
       "    </tr>\n",
       "    <tr>\n",
       "      <th>5096</th>\n",
       "      <td>4.0</td>\n",
       "      <td>3.0</td>\n",
       "      <td>1816.0</td>\n",
       "      <td>350701.0</td>\n",
       "      <td>1960.0</td>\n",
       "      <td>3776.38</td>\n",
       "      <td>6111.0</td>\n",
       "      <td>17280166</td>\n",
       "    </tr>\n",
       "    <tr>\n",
       "      <th>5166</th>\n",
       "      <td>4.0</td>\n",
       "      <td>2.0</td>\n",
       "      <td>2126.0</td>\n",
       "      <td>98473.0</td>\n",
       "      <td>1966.0</td>\n",
       "      <td>1435.68</td>\n",
       "      <td>6059.0</td>\n",
       "      <td>14254548</td>\n",
       "    </tr>\n",
       "    <tr>\n",
       "      <th>7127</th>\n",
       "      <td>2.0</td>\n",
       "      <td>2.0</td>\n",
       "      <td>1332.0</td>\n",
       "      <td>236967.0</td>\n",
       "      <td>1948.0</td>\n",
       "      <td>3044.97</td>\n",
       "      <td>6037.0</td>\n",
       "      <td>10879060</td>\n",
       "    </tr>\n",
       "    <tr>\n",
       "      <th>8339</th>\n",
       "      <td>3.0</td>\n",
       "      <td>3.0</td>\n",
       "      <td>3305.0</td>\n",
       "      <td>1001718.0</td>\n",
       "      <td>1939.0</td>\n",
       "      <td>11569.34</td>\n",
       "      <td>6037.0</td>\n",
       "      <td>12137395</td>\n",
       "    </tr>\n",
       "    <tr>\n",
       "      <th>8518</th>\n",
       "      <td>12.0</td>\n",
       "      <td>6.0</td>\n",
       "      <td>8469.0</td>\n",
       "      <td>2485282.0</td>\n",
       "      <td>1909.0</td>\n",
       "      <td>30342.87</td>\n",
       "      <td>6037.0</td>\n",
       "      <td>11991059</td>\n",
       "    </tr>\n",
       "    <tr>\n",
       "      <th>8519</th>\n",
       "      <td>12.0</td>\n",
       "      <td>6.0</td>\n",
       "      <td>8469.0</td>\n",
       "      <td>2485282.0</td>\n",
       "      <td>1909.0</td>\n",
       "      <td>30342.87</td>\n",
       "      <td>6037.0</td>\n",
       "      <td>11991059</td>\n",
       "    </tr>\n",
       "    <tr>\n",
       "      <th>9289</th>\n",
       "      <td>0.0</td>\n",
       "      <td>0.0</td>\n",
       "      <td>NaN</td>\n",
       "      <td>1523182.0</td>\n",
       "      <td>NaN</td>\n",
       "      <td>18177.58</td>\n",
       "      <td>6037.0</td>\n",
       "      <td>10857130</td>\n",
       "    </tr>\n",
       "    <tr>\n",
       "      <th>9290</th>\n",
       "      <td>0.0</td>\n",
       "      <td>0.0</td>\n",
       "      <td>NaN</td>\n",
       "      <td>1523182.0</td>\n",
       "      <td>NaN</td>\n",
       "      <td>18177.58</td>\n",
       "      <td>6037.0</td>\n",
       "      <td>10857130</td>\n",
       "    </tr>\n",
       "    <tr>\n",
       "      <th>10886</th>\n",
       "      <td>2.0</td>\n",
       "      <td>1.0</td>\n",
       "      <td>1091.0</td>\n",
       "      <td>813030.0</td>\n",
       "      <td>1926.0</td>\n",
       "      <td>8984.76</td>\n",
       "      <td>6059.0</td>\n",
       "      <td>14097534</td>\n",
       "    </tr>\n",
       "    <tr>\n",
       "      <th>12534</th>\n",
       "      <td>3.0</td>\n",
       "      <td>1.0</td>\n",
       "      <td>1183.0</td>\n",
       "      <td>179190.0</td>\n",
       "      <td>1929.0</td>\n",
       "      <td>2428.39</td>\n",
       "      <td>6037.0</td>\n",
       "      <td>12121210</td>\n",
       "    </tr>\n",
       "    <tr>\n",
       "      <th>14453</th>\n",
       "      <td>4.0</td>\n",
       "      <td>3.0</td>\n",
       "      <td>2354.0</td>\n",
       "      <td>97502.0</td>\n",
       "      <td>1965.0</td>\n",
       "      <td>5962.64</td>\n",
       "      <td>6037.0</td>\n",
       "      <td>12621730</td>\n",
       "    </tr>\n",
       "    <tr>\n",
       "      <th>15935</th>\n",
       "      <td>2.0</td>\n",
       "      <td>1.0</td>\n",
       "      <td>1178.0</td>\n",
       "      <td>72522.0</td>\n",
       "      <td>1943.0</td>\n",
       "      <td>824.09</td>\n",
       "      <td>6037.0</td>\n",
       "      <td>10956664</td>\n",
       "    </tr>\n",
       "    <tr>\n",
       "      <th>16058</th>\n",
       "      <td>2.0</td>\n",
       "      <td>2.0</td>\n",
       "      <td>1441.0</td>\n",
       "      <td>275910.0</td>\n",
       "      <td>1981.0</td>\n",
       "      <td>2908.42</td>\n",
       "      <td>6111.0</td>\n",
       "      <td>17139939</td>\n",
       "    </tr>\n",
       "    <tr>\n",
       "      <th>17676</th>\n",
       "      <td>3.0</td>\n",
       "      <td>3.0</td>\n",
       "      <td>1684.0</td>\n",
       "      <td>745361.0</td>\n",
       "      <td>1963.0</td>\n",
       "      <td>7562.76</td>\n",
       "      <td>6059.0</td>\n",
       "      <td>14448410</td>\n",
       "    </tr>\n",
       "    <tr>\n",
       "      <th>21187</th>\n",
       "      <td>11.0</td>\n",
       "      <td>7.0</td>\n",
       "      <td>6111.0</td>\n",
       "      <td>5373376.0</td>\n",
       "      <td>1949.0</td>\n",
       "      <td>64396.38</td>\n",
       "      <td>6037.0</td>\n",
       "      <td>10852812</td>\n",
       "    </tr>\n",
       "    <tr>\n",
       "      <th>22587</th>\n",
       "      <td>3.0</td>\n",
       "      <td>2.0</td>\n",
       "      <td>1713.0</td>\n",
       "      <td>498684.0</td>\n",
       "      <td>1963.0</td>\n",
       "      <td>5258.54</td>\n",
       "      <td>6111.0</td>\n",
       "      <td>17282392</td>\n",
       "    </tr>\n",
       "  </tbody>\n",
       "</table>\n",
       "</div>"
      ],
      "text/plain": [
       "       bedroomcnt  bathroomcnt  calculatedfinishedsquarefeet  \\\n",
       "325           2.0          1.0                        1082.0   \n",
       "417           3.0          2.0                        1780.0   \n",
       "526           4.0          2.5                        2217.0   \n",
       "881           2.0          1.0                        1166.0   \n",
       "1069          4.0          3.5                        3453.0   \n",
       "1446          2.0          1.0                        1025.0   \n",
       "1670          4.0          3.0                        2717.0   \n",
       "1964          4.0          4.0                        2459.0   \n",
       "3220          2.0          1.0                        1228.0   \n",
       "3825          3.0          3.5                        4373.0   \n",
       "5096          4.0          3.0                        1816.0   \n",
       "5166          4.0          2.0                        2126.0   \n",
       "7127          2.0          2.0                        1332.0   \n",
       "8339          3.0          3.0                        3305.0   \n",
       "8518         12.0          6.0                        8469.0   \n",
       "8519         12.0          6.0                        8469.0   \n",
       "9289          0.0          0.0                           NaN   \n",
       "9290          0.0          0.0                           NaN   \n",
       "10886         2.0          1.0                        1091.0   \n",
       "12534         3.0          1.0                        1183.0   \n",
       "14453         4.0          3.0                        2354.0   \n",
       "15935         2.0          1.0                        1178.0   \n",
       "16058         2.0          2.0                        1441.0   \n",
       "17676         3.0          3.0                        1684.0   \n",
       "21187        11.0          7.0                        6111.0   \n",
       "22587         3.0          2.0                        1713.0   \n",
       "\n",
       "       taxvaluedollarcnt  yearbuilt  taxamount    fips   parcelid  \n",
       "325             314100.0     1921.0    3731.14  6037.0   12102046  \n",
       "417             347615.0     1977.0    4538.95  6037.0   12847318  \n",
       "526              98707.0     1972.0    1343.64  6059.0   14050918  \n",
       "881             324880.0     1911.0    4042.46  6037.0   11717962  \n",
       "1069            939019.0     2006.0   14702.96  6059.0   14455319  \n",
       "1446             48107.0     1940.0     862.90  6059.0   14074415  \n",
       "1670            733000.0     1998.0    8314.78  6111.0   17225336  \n",
       "1964            479000.0     2007.0   12285.88  6111.0  162960529  \n",
       "3220            486805.0     1918.0    5892.10  6037.0   12537644  \n",
       "3825           5279300.0     1988.0   55756.66  6059.0   13893511  \n",
       "5096            350701.0     1960.0    3776.38  6111.0   17280166  \n",
       "5166             98473.0     1966.0    1435.68  6059.0   14254548  \n",
       "7127            236967.0     1948.0    3044.97  6037.0   10879060  \n",
       "8339           1001718.0     1939.0   11569.34  6037.0   12137395  \n",
       "8518           2485282.0     1909.0   30342.87  6037.0   11991059  \n",
       "8519           2485282.0     1909.0   30342.87  6037.0   11991059  \n",
       "9289           1523182.0        NaN   18177.58  6037.0   10857130  \n",
       "9290           1523182.0        NaN   18177.58  6037.0   10857130  \n",
       "10886           813030.0     1926.0    8984.76  6059.0   14097534  \n",
       "12534           179190.0     1929.0    2428.39  6037.0   12121210  \n",
       "14453            97502.0     1965.0    5962.64  6037.0   12621730  \n",
       "15935            72522.0     1943.0     824.09  6037.0   10956664  \n",
       "16058           275910.0     1981.0    2908.42  6111.0   17139939  \n",
       "17676           745361.0     1963.0    7562.76  6059.0   14448410  \n",
       "21187          5373376.0     1949.0   64396.38  6037.0   10852812  \n",
       "22587           498684.0     1963.0    5258.54  6111.0   17282392  "
      ]
     },
     "execution_count": 14,
     "metadata": {},
     "output_type": "execute_result"
    }
   ],
   "source": [
    "#33 rows have duplicates as shown here with a mask\n",
    "zillow_df[zillow_df.duplicated()== True]"
   ]
  },
  {
   "cell_type": "code",
   "execution_count": 15,
   "metadata": {},
   "outputs": [
    {
     "data": {
      "text/plain": [
       "False    28392\n",
       "True        26\n",
       "dtype: int64"
      ]
     },
     "execution_count": 15,
     "metadata": {},
     "output_type": "execute_result"
    }
   ],
   "source": [
    "# looking at duplicates by unique values\n",
    "zillow_df.duplicated().value_counts()"
   ]
  },
  {
   "cell_type": "code",
   "execution_count": 16,
   "metadata": {},
   "outputs": [],
   "source": [
    "#drop the nulls\n",
    "zillow_df= zillow_df.dropna()"
   ]
  },
  {
   "cell_type": "code",
   "execution_count": 17,
   "metadata": {},
   "outputs": [
    {
     "data": {
      "text/plain": [
       "bedroomcnt                      0\n",
       "bathroomcnt                     0\n",
       "calculatedfinishedsquarefeet    0\n",
       "taxvaluedollarcnt               0\n",
       "yearbuilt                       0\n",
       "taxamount                       0\n",
       "fips                            0\n",
       "parcelid                        0\n",
       "dtype: int64"
      ]
     },
     "execution_count": 17,
     "metadata": {},
     "output_type": "execute_result"
    }
   ],
   "source": [
    "#verify nulls were dropped\n",
    "zillow_df.isnull().sum()"
   ]
  },
  {
   "cell_type": "markdown",
   "metadata": {},
   "source": [
    "## Acquire Takeways:\n",
    "- need to drop nulls from calculatedfinishedsquarefeet, unitcnt, taxvaluedollarcnt, yearbuilt, taxamount \n",
    "- need to drop duplicates by parcelid (this is a unique identifier)\n",
    "- all datatypes look good, no changes needed"
   ]
  },
  {
   "cell_type": "markdown",
   "metadata": {},
   "source": [
    "# Prepare"
   ]
  },
  {
   "cell_type": "code",
   "execution_count": 18,
   "metadata": {},
   "outputs": [
    {
     "data": {
      "text/plain": [
       "24"
      ]
     },
     "execution_count": 18,
     "metadata": {},
     "output_type": "execute_result"
    }
   ],
   "source": [
    "# Count duplicate on a parcelid column\n",
    "zillow_df['parcelid'].duplicated().sum()"
   ]
  },
  {
   "cell_type": "code",
   "execution_count": 19,
   "metadata": {},
   "outputs": [],
   "source": [
    "#drop duplicated by unique identifier parcelid column\n",
    "zillow_df.drop_duplicates(subset=['parcelid'], inplace= True)"
   ]
  },
  {
   "cell_type": "code",
   "execution_count": 20,
   "metadata": {},
   "outputs": [
    {
     "data": {
      "text/plain": [
       "(28292, 8)"
      ]
     },
     "execution_count": 20,
     "metadata": {},
     "output_type": "execute_result"
    }
   ],
   "source": [
    "#Looking at shape after dropping columns\n",
    "zillow_df.shape"
   ]
  },
  {
   "cell_type": "code",
   "execution_count": 21,
   "metadata": {},
   "outputs": [],
   "source": [
    "# Drop all rows with any Null values, assign to df, and verify.\n",
    "zillow_df = zillow_df.dropna()\n"
   ]
  },
  {
   "cell_type": "code",
   "execution_count": 22,
   "metadata": {},
   "outputs": [
    {
     "data": {
      "image/png": "[encoded data removed]",
      "text/plain": [
       "<Figure size 1152x216 with 3 Axes>"
      ]
     },
     "metadata": {
      "needs_background": "light"
     },
     "output_type": "display_data"
    }
   ],
   "source": [
    "#Looking to see outliers were removed, can see all columns are closer to a normal distribution\n",
    "\n",
    "# Plot the distributions\n",
    "plt.figure(figsize=(16, 3))\n",
    "\n",
    "# List of columns\n",
    "cols = ['calculatedfinishedsquarefeet', 'bedroomcnt', 'bathroomcnt']\n",
    "\n",
    "for i, col in enumerate(cols):\n",
    "\n",
    "    # i starts at 0, but plot nos should start at 1\n",
    "    plot_number = i + 1 \n",
    "\n",
    "    # Create subplot.\n",
    "    plt.subplot(1,4, plot_number)\n",
    "\n",
    "    # Title with column name.\n",
    "    plt.title(col)\n",
    "\n",
    "    # Display histogram for column.\n",
    "    zillow_df[col].hist(bins=5)\n",
    "\n",
    "    # Hide gridlines.\n",
    "    plt.grid(False)"
   ]
  },
  {
   "cell_type": "markdown",
   "metadata": {},
   "source": [
    "## Drop outliers"
   ]
  },
  {
   "cell_type": "code",
   "execution_count": 23,
   "metadata": {},
   "outputs": [],
   "source": [
    "#Function to see outliers\n",
    "def outlier_bound_calculation(df, variable):\n",
    "    '''\n",
    "    calcualtes the lower and upper bound to locate outliers in variables\n",
    "    '''\n",
    "    quartile1, quartile3 = np.percentile(df[variable], [25,75])\n",
    "    IQR_value = quartile3 - quartile1\n",
    "    lower_bound = quartile1 - (1.5 * IQR_value)\n",
    "    upper_bound = quartile3 + (1.5 * IQR_value)\n",
    "    '''\n",
    "    returns the lowerbound and upperbound values\n",
    "    '''\n",
    "    return print(f'For {variable} the lower bound is {lower_bound} and  upper bound is {upper_bound}')"
   ]
  },
  {
   "cell_type": "code",
   "execution_count": 24,
   "metadata": {},
   "outputs": [
    {
     "name": "stdout",
     "output_type": "stream",
     "text": [
      "For calculatedfinishedsquarefeet the lower bound is -284.5 and  upper bound is 3879.5\n"
     ]
    }
   ],
   "source": [
    "outlier_bound_calculation(zillow_df, 'calculatedfinishedsquarefeet')"
   ]
  },
  {
   "cell_type": "code",
   "execution_count": 25,
   "metadata": {},
   "outputs": [],
   "source": [
    "#remove outliers from calculatedfinishedsquarefeet\n",
    "zillow_df= zillow_df[zillow_df.calculatedfinishedsquarefeet > -189.5]\n",
    "zillow_df= zillow_df[zillow_df.calculatedfinishedsquarefeet < 3550.5]"
   ]
  },
  {
   "cell_type": "code",
   "execution_count": 26,
   "metadata": {},
   "outputs": [
    {
     "data": {
      "text/html": [
       "<div>\n",
       "<style scoped>\n",
       "    .dataframe tbody tr th:only-of-type {\n",
       "        vertical-align: middle;\n",
       "    }\n",
       "\n",
       "    .dataframe tbody tr th {\n",
       "        vertical-align: top;\n",
       "    }\n",
       "\n",
       "    .dataframe thead th {\n",
       "        text-align: right;\n",
       "    }\n",
       "</style>\n",
       "<table border=\"1\" class=\"dataframe\">\n",
       "  <thead>\n",
       "    <tr style=\"text-align: right;\">\n",
       "      <th></th>\n",
       "      <th>count</th>\n",
       "      <th>mean</th>\n",
       "      <th>std</th>\n",
       "      <th>min</th>\n",
       "      <th>25%</th>\n",
       "      <th>50%</th>\n",
       "      <th>75%</th>\n",
       "      <th>max</th>\n",
       "    </tr>\n",
       "  </thead>\n",
       "  <tbody>\n",
       "    <tr>\n",
       "      <th>bedroomcnt</th>\n",
       "      <td>26566.0</td>\n",
       "      <td>3.222728e+00</td>\n",
       "      <td>8.711257e-01</td>\n",
       "      <td>0.00</td>\n",
       "      <td>3.00</td>\n",
       "      <td>3.000000e+00</td>\n",
       "      <td>4.00</td>\n",
       "      <td>9.000000e+00</td>\n",
       "    </tr>\n",
       "    <tr>\n",
       "      <th>bathroomcnt</th>\n",
       "      <td>26566.0</td>\n",
       "      <td>2.165682e+00</td>\n",
       "      <td>7.925163e-01</td>\n",
       "      <td>0.00</td>\n",
       "      <td>2.00</td>\n",
       "      <td>2.000000e+00</td>\n",
       "      <td>3.00</td>\n",
       "      <td>7.500000e+00</td>\n",
       "    </tr>\n",
       "    <tr>\n",
       "      <th>calculatedfinishedsquarefeet</th>\n",
       "      <td>26566.0</td>\n",
       "      <td>1.753553e+03</td>\n",
       "      <td>6.529273e+02</td>\n",
       "      <td>240.00</td>\n",
       "      <td>1254.00</td>\n",
       "      <td>1.615000e+03</td>\n",
       "      <td>2154.00</td>\n",
       "      <td>3.550000e+03</td>\n",
       "    </tr>\n",
       "    <tr>\n",
       "      <th>taxvaluedollarcnt</th>\n",
       "      <td>26566.0</td>\n",
       "      <td>4.448616e+05</td>\n",
       "      <td>4.340590e+05</td>\n",
       "      <td>1000.00</td>\n",
       "      <td>187224.50</td>\n",
       "      <td>3.577225e+05</td>\n",
       "      <td>569654.75</td>\n",
       "      <td>1.561849e+07</td>\n",
       "    </tr>\n",
       "    <tr>\n",
       "      <th>yearbuilt</th>\n",
       "      <td>26566.0</td>\n",
       "      <td>1.962493e+03</td>\n",
       "      <td>2.224980e+01</td>\n",
       "      <td>1878.00</td>\n",
       "      <td>1950.00</td>\n",
       "      <td>1.960000e+03</td>\n",
       "      <td>1977.00</td>\n",
       "      <td>2.016000e+03</td>\n",
       "    </tr>\n",
       "    <tr>\n",
       "      <th>taxamount</th>\n",
       "      <td>26566.0</td>\n",
       "      <td>5.459551e+03</td>\n",
       "      <td>4.995789e+03</td>\n",
       "      <td>51.26</td>\n",
       "      <td>2571.66</td>\n",
       "      <td>4.460355e+03</td>\n",
       "      <td>6830.16</td>\n",
       "      <td>1.777409e+05</td>\n",
       "    </tr>\n",
       "    <tr>\n",
       "      <th>fips</th>\n",
       "      <td>26566.0</td>\n",
       "      <td>6.049784e+03</td>\n",
       "      <td>2.181837e+01</td>\n",
       "      <td>6037.00</td>\n",
       "      <td>6037.00</td>\n",
       "      <td>6.037000e+03</td>\n",
       "      <td>6059.00</td>\n",
       "      <td>6.111000e+03</td>\n",
       "    </tr>\n",
       "    <tr>\n",
       "      <th>parcelid</th>\n",
       "      <td>26566.0</td>\n",
       "      <td>1.302740e+07</td>\n",
       "      <td>3.069465e+06</td>\n",
       "      <td>10711855.00</td>\n",
       "      <td>11505590.25</td>\n",
       "      <td>1.259623e+07</td>\n",
       "      <td>14141683.75</td>\n",
       "      <td>1.676380e+08</td>\n",
       "    </tr>\n",
       "  </tbody>\n",
       "</table>\n",
       "</div>"
      ],
      "text/plain": [
       "                                count          mean           std  \\\n",
       "bedroomcnt                    26566.0  3.222728e+00  8.711257e-01   \n",
       "bathroomcnt                   26566.0  2.165682e+00  7.925163e-01   \n",
       "calculatedfinishedsquarefeet  26566.0  1.753553e+03  6.529273e+02   \n",
       "taxvaluedollarcnt             26566.0  4.448616e+05  4.340590e+05   \n",
       "yearbuilt                     26566.0  1.962493e+03  2.224980e+01   \n",
       "taxamount                     26566.0  5.459551e+03  4.995789e+03   \n",
       "fips                          26566.0  6.049784e+03  2.181837e+01   \n",
       "parcelid                      26566.0  1.302740e+07  3.069465e+06   \n",
       "\n",
       "                                      min          25%           50%  \\\n",
       "bedroomcnt                           0.00         3.00  3.000000e+00   \n",
       "bathroomcnt                          0.00         2.00  2.000000e+00   \n",
       "calculatedfinishedsquarefeet       240.00      1254.00  1.615000e+03   \n",
       "taxvaluedollarcnt                 1000.00    187224.50  3.577225e+05   \n",
       "yearbuilt                         1878.00      1950.00  1.960000e+03   \n",
       "taxamount                           51.26      2571.66  4.460355e+03   \n",
       "fips                              6037.00      6037.00  6.037000e+03   \n",
       "parcelid                      10711855.00  11505590.25  1.259623e+07   \n",
       "\n",
       "                                      75%           max  \n",
       "bedroomcnt                           4.00  9.000000e+00  \n",
       "bathroomcnt                          3.00  7.500000e+00  \n",
       "calculatedfinishedsquarefeet      2154.00  3.550000e+03  \n",
       "taxvaluedollarcnt               569654.75  1.561849e+07  \n",
       "yearbuilt                         1977.00  2.016000e+03  \n",
       "taxamount                         6830.16  1.777409e+05  \n",
       "fips                              6059.00  6.111000e+03  \n",
       "parcelid                      14141683.75  1.676380e+08  "
      ]
     },
     "execution_count": 26,
     "metadata": {},
     "output_type": "execute_result"
    }
   ],
   "source": [
    "#making sure it did what it is suppose to\n",
    "zillow_df.describe().T"
   ]
  },
  {
   "cell_type": "code",
   "execution_count": 27,
   "metadata": {},
   "outputs": [
    {
     "name": "stdout",
     "output_type": "stream",
     "text": [
      "For bedroomcnt the lower bound is 1.5 and  upper bound is 5.5\n"
     ]
    }
   ],
   "source": [
    "outlier_bound_calculation(zillow_df, 'bedroomcnt')"
   ]
  },
  {
   "cell_type": "code",
   "execution_count": 28,
   "metadata": {},
   "outputs": [],
   "source": [
    "#remove outliers from bedroomcnt\n",
    "zillow_df= zillow_df[zillow_df.bedroomcnt >1.5]\n",
    "zillow_df= zillow_df[zillow_df.bedroomcnt < 5.5]"
   ]
  },
  {
   "cell_type": "code",
   "execution_count": 29,
   "metadata": {},
   "outputs": [
    {
     "name": "stdout",
     "output_type": "stream",
     "text": [
      "For bathroomcnt the lower bound is 0.5 and  upper bound is 4.5\n"
     ]
    }
   ],
   "source": [
    "outlier_bound_calculation(zillow_df, 'bathroomcnt')"
   ]
  },
  {
   "cell_type": "code",
   "execution_count": 30,
   "metadata": {},
   "outputs": [],
   "source": [
    "#remove outliers from bedroomcnt\n",
    "zillow_df= zillow_df[zillow_df.bathroomcnt > 0.5]\n",
    "zillow_df= zillow_df[zillow_df.bathroomcnt < 4.5]"
   ]
  },
  {
   "cell_type": "code",
   "execution_count": 31,
   "metadata": {},
   "outputs": [
    {
     "data": {
      "image/png": "[encoded data removed]",
      "text/plain": [
       "<Figure size 1152x216 with 3 Axes>"
      ]
     },
     "metadata": {
      "needs_background": "light"
     },
     "output_type": "display_data"
    }
   ],
   "source": [
    "# Visualize to make sure outliers were removed, all graphs are closer to normal distribution\n",
    "# Plot the distributions\n",
    "plt.figure(figsize=(16, 3))\n",
    "\n",
    "# List of columns\n",
    "cols = ['calculatedfinishedsquarefeet', 'bedroomcnt', 'bathroomcnt']\n",
    "\n",
    "for i, col in enumerate(cols):\n",
    "\n",
    "    # i starts at 0, but plot nos should start at 1\n",
    "    plot_number = i + 1 \n",
    "\n",
    "    # Create subplot.\n",
    "    plt.subplot(1,4, plot_number)\n",
    "\n",
    "    # Title with column name.\n",
    "    plt.title(col)\n",
    "\n",
    "    # Display histogram for column.\n",
    "    zillow_df[col].hist(bins=5)\n",
    "\n",
    "    # Hide gridlines.\n",
    "    plt.grid(False)"
   ]
  },
  {
   "cell_type": "code",
   "execution_count": 32,
   "metadata": {},
   "outputs": [
    {
     "data": {
      "text/html": [
       "<div>\n",
       "<style scoped>\n",
       "    .dataframe tbody tr th:only-of-type {\n",
       "        vertical-align: middle;\n",
       "    }\n",
       "\n",
       "    .dataframe tbody tr th {\n",
       "        vertical-align: top;\n",
       "    }\n",
       "\n",
       "    .dataframe thead th {\n",
       "        text-align: right;\n",
       "    }\n",
       "</style>\n",
       "<table border=\"1\" class=\"dataframe\">\n",
       "  <thead>\n",
       "    <tr style=\"text-align: right;\">\n",
       "      <th></th>\n",
       "      <th>bedroomcnt</th>\n",
       "      <th>bathroomcnt</th>\n",
       "      <th>calculatedfinishedsquarefeet</th>\n",
       "      <th>taxvaluedollarcnt</th>\n",
       "      <th>yearbuilt</th>\n",
       "      <th>taxamount</th>\n",
       "      <th>fips</th>\n",
       "      <th>parcelid</th>\n",
       "    </tr>\n",
       "  </thead>\n",
       "  <tbody>\n",
       "    <tr>\n",
       "      <th>0</th>\n",
       "      <td>3.0</td>\n",
       "      <td>2.0</td>\n",
       "      <td>1316.0</td>\n",
       "      <td>205123.0</td>\n",
       "      <td>1923.0</td>\n",
       "      <td>2627.48</td>\n",
       "      <td>6037.0</td>\n",
       "      <td>11721753</td>\n",
       "    </tr>\n",
       "    <tr>\n",
       "      <th>1</th>\n",
       "      <td>3.0</td>\n",
       "      <td>2.0</td>\n",
       "      <td>1458.0</td>\n",
       "      <td>136104.0</td>\n",
       "      <td>1970.0</td>\n",
       "      <td>2319.90</td>\n",
       "      <td>6037.0</td>\n",
       "      <td>11289917</td>\n",
       "    </tr>\n",
       "    <tr>\n",
       "      <th>2</th>\n",
       "      <td>2.0</td>\n",
       "      <td>1.0</td>\n",
       "      <td>1421.0</td>\n",
       "      <td>35606.0</td>\n",
       "      <td>1911.0</td>\n",
       "      <td>543.69</td>\n",
       "      <td>6037.0</td>\n",
       "      <td>11705026</td>\n",
       "    </tr>\n",
       "    <tr>\n",
       "      <th>3</th>\n",
       "      <td>4.0</td>\n",
       "      <td>3.0</td>\n",
       "      <td>2541.0</td>\n",
       "      <td>880456.0</td>\n",
       "      <td>2003.0</td>\n",
       "      <td>9819.72</td>\n",
       "      <td>6059.0</td>\n",
       "      <td>14269464</td>\n",
       "    </tr>\n",
       "    <tr>\n",
       "      <th>4</th>\n",
       "      <td>3.0</td>\n",
       "      <td>2.0</td>\n",
       "      <td>1491.0</td>\n",
       "      <td>107110.0</td>\n",
       "      <td>1955.0</td>\n",
       "      <td>1399.27</td>\n",
       "      <td>6037.0</td>\n",
       "      <td>11446756</td>\n",
       "    </tr>\n",
       "  </tbody>\n",
       "</table>\n",
       "</div>"
      ],
      "text/plain": [
       "   bedroomcnt  bathroomcnt  calculatedfinishedsquarefeet  taxvaluedollarcnt  \\\n",
       "0         3.0          2.0                        1316.0           205123.0   \n",
       "1         3.0          2.0                        1458.0           136104.0   \n",
       "2         2.0          1.0                        1421.0            35606.0   \n",
       "3         4.0          3.0                        2541.0           880456.0   \n",
       "4         3.0          2.0                        1491.0           107110.0   \n",
       "\n",
       "   yearbuilt  taxamount    fips  parcelid  \n",
       "0     1923.0    2627.48  6037.0  11721753  \n",
       "1     1970.0    2319.90  6037.0  11289917  \n",
       "2     1911.0     543.69  6037.0  11705026  \n",
       "3     2003.0    9819.72  6059.0  14269464  \n",
       "4     1955.0    1399.27  6037.0  11446756  "
      ]
     },
     "execution_count": 32,
     "metadata": {},
     "output_type": "execute_result"
    }
   ],
   "source": [
    "zillow_df.head()"
   ]
  },
  {
   "cell_type": "markdown",
   "metadata": {},
   "source": [
    "# Explore"
   ]
  },
  {
   "cell_type": "code",
   "execution_count": 33,
   "metadata": {},
   "outputs": [],
   "source": [
    "from sklearn.model_selection import train_test_split\n",
    "def split_zillow(df, target):\n",
    "    '''\n",
    "    this function takes in the zillow dataframe\n",
    "    splits into train, validate and test subsets\n",
    "    then splits for X (features) and y (target)\n",
    "    '''\n",
    "    # split df into 20% test, 80% train_validate\n",
    "    train_validate, test = train_test_split(df, test_size=0.2, random_state=1234)\n",
    "    # split train_validate into 30% validate, 70% train\n",
    "    train, validate = train_test_split(train_validate, test_size=0.3, random_state=1234)\n",
    "    # Split with X and y\n",
    "    X_train = train.drop(columns=[target])\n",
    "    y_train = train[target]\n",
    "    X_validate = validate.drop(columns=[target])\n",
    "    y_validate = validate[target]\n",
    "    X_test = test.drop(columns=[target])\n",
    "    y_test = test[target]\n",
    "    return train, validate, test, X_train, y_train, X_validate, y_validate, X_test, y_test"
   ]
  },
  {
   "cell_type": "code",
   "execution_count": 34,
   "metadata": {},
   "outputs": [],
   "source": [
    "train, validate, test, X_train, y_train, X_validate, y_validate, X_test, y_test= split_zillow(zillow_df, 'taxvaluedollarcnt')"
   ]
  },
  {
   "cell_type": "code",
   "execution_count": 35,
   "metadata": {},
   "outputs": [
    {
     "data": {
      "text/plain": [
       "20450     728000.0\n",
       "18935    6700650.0\n",
       "23732      49863.0\n",
       "19000    1560000.0\n",
       "17146     336547.0\n",
       "Name: taxvaluedollarcnt, dtype: float64"
      ]
     },
     "execution_count": 35,
     "metadata": {},
     "output_type": "execute_result"
    }
   ],
   "source": [
    "y_validate.head()"
   ]
  },
  {
   "cell_type": "code",
   "execution_count": 36,
   "metadata": {},
   "outputs": [
    {
     "data": {
      "text/plain": [
       "0"
      ]
     },
     "execution_count": 36,
     "metadata": {},
     "output_type": "execute_result"
    }
   ],
   "source": [
    "y_validate.isnull().sum()"
   ]
  },
  {
   "cell_type": "code",
   "execution_count": 37,
   "metadata": {},
   "outputs": [],
   "source": [
    "#Creating numeric columns\n",
    "numeric_cols= ['calculatedfinishedsquarefeet']"
   ]
  },
  {
   "cell_type": "code",
   "execution_count": 38,
   "metadata": {},
   "outputs": [],
   "source": [
    "#min_max_scale function\n",
    "# def min_max_scale(X_train, X_validate, X_test, numeric_cols):\n",
    "#     \"\"\"\n",
    "#     this function takes in 3 dataframes with the same columns,\n",
    "#     a list of numeric column names (because the scaler can only work with numeric columns),\n",
    "#     and fits a min-max scaler to the first dataframe and transforms all\n",
    "#     3 dataframes using that scaler.\n",
    "#     it returns 3 dataframes with the same column names and scaled values.\n",
    "#     \"\"\"\n",
    "#     # create the scaler object and fit it to X_train (i.e. identify min and max)\n",
    "#     # if copy = false, inplace row normalization happens and avoids a copy (if the input is already a numpy array).\n",
    "\n",
    "#     scaler = MinMaxScaler(copy=True).fit(X_train[numeric_cols])\n",
    "\n",
    "#     # scale X_train, X_validate, X_test using the mins and maxes stored in the scaler derived from X_train.\n",
    "#     #\n",
    "#     X_train_scaled_array = scaler.transform(X_train[numeric_cols])\n",
    "#     X_validate_scaled_array = scaler.transform(X_validate[numeric_cols])\n",
    "#     X_test_scaled_array = scaler.transform(X_test[numeric_cols])\n",
    "\n",
    "#     # convert arrays to dataframes\n",
    "#     X_train_scaled = pd.DataFrame(X_train_scaled_array, columns=numeric_cols).set_index(\n",
    "#         [X_train.index.values]\n",
    "#     )\n",
    "\n",
    "#     X_validate_scaled = pd.DataFrame(\n",
    "#         X_validate_scaled_array, columns=numeric_cols\n",
    "#     ).set_index([X_validate.index.values])\n",
    "\n",
    "#     X_test_scaled = pd.DataFrame(X_test_scaled_array, columns=numeric_cols).set_index(\n",
    "#         [X_test.index.values]\n",
    "#     )\n",
    "#     # Overwriting columns in our input dataframes for simplicity\n",
    "#     for i in numeric_cols:\n",
    "#         X_train[i] = X_train_scaled[i]\n",
    "#         X_validate[i] = X_validate_scaled[i]\n",
    "#         X_test[i] = X_test_scaled[i]\n",
    "\n",
    "#     return X_train_scaled, X_validate_scaled, X_test_scaled"
   ]
  },
  {
   "cell_type": "code",
   "execution_count": 39,
   "metadata": {},
   "outputs": [],
   "source": [
    "def min_max_scaler(X_train, X_validate, X_test, numeric_cols):\n",
    "    \"\"\"\n",
    "    this function takes in 3 dataframes with the same columns,\n",
    "    a list of numeric column names (because the scaler can only work with numeric columns),\n",
    "    and fits a min-max scaler to the first dataframe and transforms all\n",
    "    3 dataframes using that scaler.\n",
    "    it returns 3 dataframes with the same column names and scaled values.\n",
    "    \"\"\"\n",
    "    # create the scaler object and fit it to X_train (i.e. identify min and max)\n",
    "    # if copy = false, inplace row normalization happens and avoids a copy (if the input is already a numpy array).\n",
    "    scaler = MinMaxScaler(copy=True).fit(X_train[numeric_cols])\n",
    "    # scale X_train, X_validate, X_test using the mins and maxes stored in the scaler derived from X_train.\n",
    "    #\n",
    "    X_train_scaled_array = scaler.transform(X_train[numeric_cols])\n",
    "    X_validate_scaled_array = scaler.transform(X_validate[numeric_cols])\n",
    "    X_test_scaled_array = scaler.transform(X_test[numeric_cols])\n",
    "    # convert arrays to dataframes\n",
    "    X_train_scaled = pd.DataFrame(X_train_scaled_array, columns=numeric_cols).set_index(\n",
    "        [X_train.index.values]\n",
    "    )\n",
    "    X_validate_scaled = pd.DataFrame(\n",
    "        X_validate_scaled_array, columns=numeric_cols\n",
    "    ).set_index([X_validate.index.values])\n",
    "    X_test_scaled = pd.DataFrame(X_test_scaled_array, columns=numeric_cols).set_index(\n",
    "        [X_test.index.values]\n",
    "    )\n",
    "    # Overwriting columns in our input dataframes for simplicity\n",
    "    for i in numeric_cols:\n",
    "        X_train[i] = X_train_scaled[i]\n",
    "        X_validate[i] = X_validate_scaled[i]\n",
    "        X_test[i] = X_test_scaled[i]\n",
    "    return X_train, X_validate, X_test"
   ]
  },
  {
   "cell_type": "code",
   "execution_count": 40,
   "metadata": {},
   "outputs": [],
   "source": [
    "#using function\n",
    "X_train_scaled, X_validate_scaled, X_test_scaled= min_max_scaler(X_train, X_validate, X_test, numeric_cols)"
   ]
  },
  {
   "cell_type": "code",
   "execution_count": 41,
   "metadata": {},
   "outputs": [
    {
     "data": {
      "text/plain": [
       "((14455, 7), (6195, 7), (5163, 7))"
      ]
     },
     "execution_count": 41,
     "metadata": {},
     "output_type": "execute_result"
    }
   ],
   "source": [
    "#looking at shape for each scaled dataset\n",
    "X_train_scaled.shape, X_validate_scaled.shape, X_test_scaled.shape"
   ]
  },
  {
   "cell_type": "code",
   "execution_count": 42,
   "metadata": {},
   "outputs": [
    {
     "data": {
      "text/html": [
       "<div>\n",
       "<style scoped>\n",
       "    .dataframe tbody tr th:only-of-type {\n",
       "        vertical-align: middle;\n",
       "    }\n",
       "\n",
       "    .dataframe tbody tr th {\n",
       "        vertical-align: top;\n",
       "    }\n",
       "\n",
       "    .dataframe thead th {\n",
       "        text-align: right;\n",
       "    }\n",
       "</style>\n",
       "<table border=\"1\" class=\"dataframe\">\n",
       "  <thead>\n",
       "    <tr style=\"text-align: right;\">\n",
       "      <th></th>\n",
       "      <th>bedroomcnt</th>\n",
       "      <th>bathroomcnt</th>\n",
       "      <th>calculatedfinishedsquarefeet</th>\n",
       "      <th>yearbuilt</th>\n",
       "      <th>taxamount</th>\n",
       "      <th>fips</th>\n",
       "      <th>parcelid</th>\n",
       "    </tr>\n",
       "  </thead>\n",
       "  <tbody>\n",
       "    <tr>\n",
       "      <th>17622</th>\n",
       "      <td>3.0</td>\n",
       "      <td>2.0</td>\n",
       "      <td>0.378858</td>\n",
       "      <td>1950.0</td>\n",
       "      <td>3961.45</td>\n",
       "      <td>6037.0</td>\n",
       "      <td>12482091</td>\n",
       "    </tr>\n",
       "    <tr>\n",
       "      <th>26216</th>\n",
       "      <td>5.0</td>\n",
       "      <td>3.0</td>\n",
       "      <td>0.709783</td>\n",
       "      <td>1951.0</td>\n",
       "      <td>14836.32</td>\n",
       "      <td>6059.0</td>\n",
       "      <td>13889789</td>\n",
       "    </tr>\n",
       "    <tr>\n",
       "      <th>6909</th>\n",
       "      <td>3.0</td>\n",
       "      <td>3.0</td>\n",
       "      <td>0.561392</td>\n",
       "      <td>1988.0</td>\n",
       "      <td>8191.31</td>\n",
       "      <td>6037.0</td>\n",
       "      <td>11344899</td>\n",
       "    </tr>\n",
       "    <tr>\n",
       "      <th>4048</th>\n",
       "      <td>5.0</td>\n",
       "      <td>3.0</td>\n",
       "      <td>0.561064</td>\n",
       "      <td>1971.0</td>\n",
       "      <td>1389.40</td>\n",
       "      <td>6111.0</td>\n",
       "      <td>17246190</td>\n",
       "    </tr>\n",
       "    <tr>\n",
       "      <th>24719</th>\n",
       "      <td>2.0</td>\n",
       "      <td>1.0</td>\n",
       "      <td>0.099803</td>\n",
       "      <td>1925.0</td>\n",
       "      <td>1287.57</td>\n",
       "      <td>6037.0</td>\n",
       "      <td>12359021</td>\n",
       "    </tr>\n",
       "  </tbody>\n",
       "</table>\n",
       "</div>"
      ],
      "text/plain": [
       "       bedroomcnt  bathroomcnt  calculatedfinishedsquarefeet  yearbuilt  \\\n",
       "17622         3.0          2.0                      0.378858     1950.0   \n",
       "26216         5.0          3.0                      0.709783     1951.0   \n",
       "6909          3.0          3.0                      0.561392     1988.0   \n",
       "4048          5.0          3.0                      0.561064     1971.0   \n",
       "24719         2.0          1.0                      0.099803     1925.0   \n",
       "\n",
       "       taxamount    fips  parcelid  \n",
       "17622    3961.45  6037.0  12482091  \n",
       "26216   14836.32  6059.0  13889789  \n",
       "6909     8191.31  6037.0  11344899  \n",
       "4048     1389.40  6111.0  17246190  \n",
       "24719    1287.57  6037.0  12359021  "
      ]
     },
     "execution_count": 42,
     "metadata": {},
     "output_type": "execute_result"
    }
   ],
   "source": [
    "X_train_scaled.head()"
   ]
  },
  {
   "cell_type": "code",
   "execution_count": 43,
   "metadata": {},
   "outputs": [],
   "source": [
    "#dropping target from scaled data\n",
    "X_train_scaled= X_train_scaled.drop(columns=['taxamount'])\n",
    "X_validate_scaled= X_validate_scaled.drop(columns=['taxamount'])\n",
    "X_test_scaled= X_test_scaled.drop(columns=['taxamount'])"
   ]
  },
  {
   "cell_type": "code",
   "execution_count": 44,
   "metadata": {},
   "outputs": [
    {
     "data": {
      "text/html": [
       "<div>\n",
       "<style scoped>\n",
       "    .dataframe tbody tr th:only-of-type {\n",
       "        vertical-align: middle;\n",
       "    }\n",
       "\n",
       "    .dataframe tbody tr th {\n",
       "        vertical-align: top;\n",
       "    }\n",
       "\n",
       "    .dataframe thead th {\n",
       "        text-align: right;\n",
       "    }\n",
       "</style>\n",
       "<table border=\"1\" class=\"dataframe\">\n",
       "  <thead>\n",
       "    <tr style=\"text-align: right;\">\n",
       "      <th></th>\n",
       "      <th>bedroomcnt</th>\n",
       "      <th>bathroomcnt</th>\n",
       "      <th>calculatedfinishedsquarefeet</th>\n",
       "      <th>yearbuilt</th>\n",
       "      <th>fips</th>\n",
       "      <th>parcelid</th>\n",
       "    </tr>\n",
       "  </thead>\n",
       "  <tbody>\n",
       "    <tr>\n",
       "      <th>17622</th>\n",
       "      <td>3.0</td>\n",
       "      <td>2.0</td>\n",
       "      <td>0.378858</td>\n",
       "      <td>1950.0</td>\n",
       "      <td>6037.0</td>\n",
       "      <td>12482091</td>\n",
       "    </tr>\n",
       "    <tr>\n",
       "      <th>26216</th>\n",
       "      <td>5.0</td>\n",
       "      <td>3.0</td>\n",
       "      <td>0.709783</td>\n",
       "      <td>1951.0</td>\n",
       "      <td>6059.0</td>\n",
       "      <td>13889789</td>\n",
       "    </tr>\n",
       "    <tr>\n",
       "      <th>6909</th>\n",
       "      <td>3.0</td>\n",
       "      <td>3.0</td>\n",
       "      <td>0.561392</td>\n",
       "      <td>1988.0</td>\n",
       "      <td>6037.0</td>\n",
       "      <td>11344899</td>\n",
       "    </tr>\n",
       "    <tr>\n",
       "      <th>4048</th>\n",
       "      <td>5.0</td>\n",
       "      <td>3.0</td>\n",
       "      <td>0.561064</td>\n",
       "      <td>1971.0</td>\n",
       "      <td>6111.0</td>\n",
       "      <td>17246190</td>\n",
       "    </tr>\n",
       "    <tr>\n",
       "      <th>24719</th>\n",
       "      <td>2.0</td>\n",
       "      <td>1.0</td>\n",
       "      <td>0.099803</td>\n",
       "      <td>1925.0</td>\n",
       "      <td>6037.0</td>\n",
       "      <td>12359021</td>\n",
       "    </tr>\n",
       "  </tbody>\n",
       "</table>\n",
       "</div>"
      ],
      "text/plain": [
       "       bedroomcnt  bathroomcnt  calculatedfinishedsquarefeet  yearbuilt  \\\n",
       "17622         3.0          2.0                      0.378858     1950.0   \n",
       "26216         5.0          3.0                      0.709783     1951.0   \n",
       "6909          3.0          3.0                      0.561392     1988.0   \n",
       "4048          5.0          3.0                      0.561064     1971.0   \n",
       "24719         2.0          1.0                      0.099803     1925.0   \n",
       "\n",
       "         fips  parcelid  \n",
       "17622  6037.0  12482091  \n",
       "26216  6059.0  13889789  \n",
       "6909   6037.0  11344899  \n",
       "4048   6111.0  17246190  \n",
       "24719  6037.0  12359021  "
      ]
     },
     "execution_count": 44,
     "metadata": {},
     "output_type": "execute_result"
    }
   ],
   "source": [
    "#Verify taxamount column was dropped\n",
    "X_train_scaled.head()"
   ]
  },
  {
   "cell_type": "code",
   "execution_count": 45,
   "metadata": {},
   "outputs": [
    {
     "data": {
      "text/html": [
       "<div>\n",
       "<style scoped>\n",
       "    .dataframe tbody tr th:only-of-type {\n",
       "        vertical-align: middle;\n",
       "    }\n",
       "\n",
       "    .dataframe tbody tr th {\n",
       "        vertical-align: top;\n",
       "    }\n",
       "\n",
       "    .dataframe thead th {\n",
       "        text-align: right;\n",
       "    }\n",
       "</style>\n",
       "<table border=\"1\" class=\"dataframe\">\n",
       "  <thead>\n",
       "    <tr style=\"text-align: right;\">\n",
       "      <th></th>\n",
       "      <th>bedroomcnt</th>\n",
       "      <th>bathroomcnt</th>\n",
       "      <th>calculatedfinishedsquarefeet</th>\n",
       "      <th>yearbuilt</th>\n",
       "      <th>fips</th>\n",
       "      <th>parcelid</th>\n",
       "    </tr>\n",
       "  </thead>\n",
       "  <tbody>\n",
       "    <tr>\n",
       "      <th>20450</th>\n",
       "      <td>4.0</td>\n",
       "      <td>3.0</td>\n",
       "      <td>0.620158</td>\n",
       "      <td>1969.0</td>\n",
       "      <td>6111.0</td>\n",
       "      <td>17283526</td>\n",
       "    </tr>\n",
       "    <tr>\n",
       "      <th>18935</th>\n",
       "      <td>3.0</td>\n",
       "      <td>2.0</td>\n",
       "      <td>0.369993</td>\n",
       "      <td>1949.0</td>\n",
       "      <td>6037.0</td>\n",
       "      <td>11686158</td>\n",
       "    </tr>\n",
       "    <tr>\n",
       "      <th>23732</th>\n",
       "      <td>3.0</td>\n",
       "      <td>1.0</td>\n",
       "      <td>0.171044</td>\n",
       "      <td>1951.0</td>\n",
       "      <td>6037.0</td>\n",
       "      <td>12397747</td>\n",
       "    </tr>\n",
       "    <tr>\n",
       "      <th>19000</th>\n",
       "      <td>3.0</td>\n",
       "      <td>2.0</td>\n",
       "      <td>0.478661</td>\n",
       "      <td>1969.0</td>\n",
       "      <td>6037.0</td>\n",
       "      <td>11691199</td>\n",
       "    </tr>\n",
       "    <tr>\n",
       "      <th>17146</th>\n",
       "      <td>2.0</td>\n",
       "      <td>1.0</td>\n",
       "      <td>0.122784</td>\n",
       "      <td>1953.0</td>\n",
       "      <td>6037.0</td>\n",
       "      <td>11440877</td>\n",
       "    </tr>\n",
       "  </tbody>\n",
       "</table>\n",
       "</div>"
      ],
      "text/plain": [
       "       bedroomcnt  bathroomcnt  calculatedfinishedsquarefeet  yearbuilt  \\\n",
       "20450         4.0          3.0                      0.620158     1969.0   \n",
       "18935         3.0          2.0                      0.369993     1949.0   \n",
       "23732         3.0          1.0                      0.171044     1951.0   \n",
       "19000         3.0          2.0                      0.478661     1969.0   \n",
       "17146         2.0          1.0                      0.122784     1953.0   \n",
       "\n",
       "         fips  parcelid  \n",
       "20450  6111.0  17283526  \n",
       "18935  6037.0  11686158  \n",
       "23732  6037.0  12397747  \n",
       "19000  6037.0  11691199  \n",
       "17146  6037.0  11440877  "
      ]
     },
     "execution_count": 45,
     "metadata": {},
     "output_type": "execute_result"
    }
   ],
   "source": [
    "#Verify taxamount column was dropped\n",
    "X_validate_scaled.head()"
   ]
  },
  {
   "cell_type": "code",
   "execution_count": 46,
   "metadata": {},
   "outputs": [
    {
     "data": {
      "text/html": [
       "<div>\n",
       "<style scoped>\n",
       "    .dataframe tbody tr th:only-of-type {\n",
       "        vertical-align: middle;\n",
       "    }\n",
       "\n",
       "    .dataframe tbody tr th {\n",
       "        vertical-align: top;\n",
       "    }\n",
       "\n",
       "    .dataframe thead th {\n",
       "        text-align: right;\n",
       "    }\n",
       "</style>\n",
       "<table border=\"1\" class=\"dataframe\">\n",
       "  <thead>\n",
       "    <tr style=\"text-align: right;\">\n",
       "      <th></th>\n",
       "      <th>bedroomcnt</th>\n",
       "      <th>bathroomcnt</th>\n",
       "      <th>calculatedfinishedsquarefeet</th>\n",
       "      <th>yearbuilt</th>\n",
       "      <th>fips</th>\n",
       "      <th>parcelid</th>\n",
       "    </tr>\n",
       "  </thead>\n",
       "  <tbody>\n",
       "    <tr>\n",
       "      <th>3179</th>\n",
       "      <td>5.0</td>\n",
       "      <td>2.0</td>\n",
       "      <td>0.376559</td>\n",
       "      <td>1964.0</td>\n",
       "      <td>6059.0</td>\n",
       "      <td>14038888</td>\n",
       "    </tr>\n",
       "    <tr>\n",
       "      <th>27149</th>\n",
       "      <td>4.0</td>\n",
       "      <td>4.0</td>\n",
       "      <td>0.784636</td>\n",
       "      <td>1986.0</td>\n",
       "      <td>6059.0</td>\n",
       "      <td>14433304</td>\n",
       "    </tr>\n",
       "    <tr>\n",
       "      <th>2590</th>\n",
       "      <td>3.0</td>\n",
       "      <td>2.0</td>\n",
       "      <td>0.240972</td>\n",
       "      <td>1962.0</td>\n",
       "      <td>6037.0</td>\n",
       "      <td>12428011</td>\n",
       "    </tr>\n",
       "    <tr>\n",
       "      <th>258</th>\n",
       "      <td>2.0</td>\n",
       "      <td>1.0</td>\n",
       "      <td>0.108995</td>\n",
       "      <td>1980.0</td>\n",
       "      <td>6037.0</td>\n",
       "      <td>12504405</td>\n",
       "    </tr>\n",
       "    <tr>\n",
       "      <th>23978</th>\n",
       "      <td>2.0</td>\n",
       "      <td>1.5</td>\n",
       "      <td>0.152988</td>\n",
       "      <td>1973.0</td>\n",
       "      <td>6059.0</td>\n",
       "      <td>14073259</td>\n",
       "    </tr>\n",
       "  </tbody>\n",
       "</table>\n",
       "</div>"
      ],
      "text/plain": [
       "       bedroomcnt  bathroomcnt  calculatedfinishedsquarefeet  yearbuilt  \\\n",
       "3179          5.0          2.0                      0.376559     1964.0   \n",
       "27149         4.0          4.0                      0.784636     1986.0   \n",
       "2590          3.0          2.0                      0.240972     1962.0   \n",
       "258           2.0          1.0                      0.108995     1980.0   \n",
       "23978         2.0          1.5                      0.152988     1973.0   \n",
       "\n",
       "         fips  parcelid  \n",
       "3179   6059.0  14038888  \n",
       "27149  6059.0  14433304  \n",
       "2590   6037.0  12428011  \n",
       "258    6037.0  12504405  \n",
       "23978  6059.0  14073259  "
      ]
     },
     "execution_count": 46,
     "metadata": {},
     "output_type": "execute_result"
    }
   ],
   "source": [
    "#Verify taxamount column was dropped\n",
    "X_test_scaled.head()"
   ]
  },
  {
   "cell_type": "code",
   "execution_count": 47,
   "metadata": {},
   "outputs": [],
   "source": [
    "#Feature engineering"
   ]
  },
  {
   "cell_type": "code",
   "execution_count": 48,
   "metadata": {},
   "outputs": [],
   "source": [
    "# parameters: f_regression stats test, give me 3 features\n",
    "f_selector = SelectKBest(f_regression, k=2)\n",
    "\n",
    "# find the top 2 X's correlated with y\n",
    "f_selector.fit(X_train_scaled, y_train)\n",
    "\n",
    "# boolean mask of whether the column was selected or not. \n",
    "feature_mask = f_selector.get_support()\n",
    "\n",
    "# get list of top K features. \n",
    "f_feature = X_train_scaled.iloc[:,feature_mask].columns.tolist()"
   ]
  },
  {
   "cell_type": "code",
   "execution_count": 49,
   "metadata": {},
   "outputs": [
    {
     "data": {
      "text/plain": [
       "['bathroomcnt', 'calculatedfinishedsquarefeet']"
      ]
     },
     "execution_count": 49,
     "metadata": {},
     "output_type": "execute_result"
    }
   ],
   "source": [
    "f_feature"
   ]
  },
  {
   "cell_type": "markdown",
   "metadata": {},
   "source": [
    "## Hypothesis 1:\n",
    "- HO: Square feet has no relationship on tax value dollar count\n",
    "- Ha: Square feet has a relationship on tax value dollar count"
   ]
  },
  {
   "cell_type": "code",
   "execution_count": 50,
   "metadata": {},
   "outputs": [
    {
     "name": "stdout",
     "output_type": "stream",
     "text": [
      "corr = 0.42643\n",
      "p = 0.0\n"
     ]
    }
   ],
   "source": [
    "corr, p = stats.pearsonr(train.calculatedfinishedsquarefeet, train.taxvaluedollarcnt)\n",
    "\n",
    "print(f'corr = {corr:.5f}')\n",
    "print(f'p = {p:.1f}')"
   ]
  },
  {
   "cell_type": "code",
   "execution_count": 51,
   "metadata": {},
   "outputs": [],
   "source": [
    "#set alpha\n",
    "alpha= 0.05"
   ]
  },
  {
   "cell_type": "code",
   "execution_count": 52,
   "metadata": {},
   "outputs": [
    {
     "data": {
      "text/plain": [
       "True"
      ]
     },
     "execution_count": 52,
     "metadata": {},
     "output_type": "execute_result"
    }
   ],
   "source": [
    "#Is there a correlation?\n",
    "# compare our p-value to our alpha:\n",
    "p < alpha"
   ]
  },
  {
   "cell_type": "markdown",
   "metadata": {},
   "source": [
    "## Hypothesis 2:\n",
    "- HO: There is no difference between bedroom count and tax value dollar count\n",
    "- Ha: There is a difference between bedroom count and tax value dollar count"
   ]
  },
  {
   "cell_type": "code",
   "execution_count": 53,
   "metadata": {},
   "outputs": [
    {
     "data": {
      "text/plain": [
       "(131.56989010958694, 0.0)"
      ]
     },
     "execution_count": 53,
     "metadata": {},
     "output_type": "execute_result"
    }
   ],
   "source": [
    "# 2 sample 2 tailed t test\n",
    "t, p = stats.ttest_ind(train.taxvaluedollarcnt, train.bedroomcnt, equal_var=False)\n",
    "\n",
    "t, p"
   ]
  },
  {
   "cell_type": "code",
   "execution_count": 54,
   "metadata": {},
   "outputs": [
    {
     "name": "stdout",
     "output_type": "stream",
     "text": [
      "We reject the null hypothesis\n"
     ]
    }
   ],
   "source": [
    "#What can we conclude?\n",
    "if p < alpha:\n",
    "     print(\"We reject the null hypothesis\")\n",
    "else:\n",
    "    print(\"We fail to reject the null hypothesis\")"
   ]
  },
  {
   "cell_type": "markdown",
   "metadata": {},
   "source": [
    "Note: This is not by chance because we reject the null hypothesis."
   ]
  },
  {
   "cell_type": "markdown",
   "metadata": {},
   "source": [
    "## Hypothesis 3:\n",
    "- HO: There is no difference between bathroom count and tax value dollar count\n",
    "- Ha: There is a difference between bathroom count and tax value dollar count"
   ]
  },
  {
   "cell_type": "code",
   "execution_count": 55,
   "metadata": {},
   "outputs": [
    {
     "data": {
      "text/plain": [
       "(131.57021568292265, 0.0)"
      ]
     },
     "execution_count": 55,
     "metadata": {},
     "output_type": "execute_result"
    }
   ],
   "source": [
    "# 2 sample 2 tailed t test\n",
    "t2, p2 = stats.ttest_ind(train.taxvaluedollarcnt, train.bathroomcnt, equal_var=False)\n",
    "\n",
    "t2, p2"
   ]
  },
  {
   "cell_type": "code",
   "execution_count": 56,
   "metadata": {},
   "outputs": [
    {
     "name": "stdout",
     "output_type": "stream",
     "text": [
      "We reject the null hypothesis\n"
     ]
    }
   ],
   "source": [
    "#What is the conclusion?\n",
    "if p2 < alpha:\n",
    "     print(\"We reject the null hypothesis\")\n",
    "else:\n",
    "    print(\"We fail to reject the null hypothesis\")"
   ]
  },
  {
   "cell_type": "markdown",
   "metadata": {},
   "source": [
    "Note: This is not by chance because we reject the null hypothesis."
   ]
  },
  {
   "cell_type": "markdown",
   "metadata": {},
   "source": [
    "# Modeling"
   ]
  },
  {
   "cell_type": "code",
   "execution_count": 57,
   "metadata": {},
   "outputs": [
    {
     "data": {
      "image/png": "[encoded data removed]",
      "text/plain": [
       "<Figure size 792x648 with 1 Axes>"
      ]
     },
     "metadata": {
      "needs_background": "light"
     },
     "output_type": "display_data"
    }
   ],
   "source": [
    "# Is it a normal distribution?\n",
    "plt.hist(y_train)\n",
    "plt.title('Distribution of Target (Appraised Value)')\n",
    "plt.show()"
   ]
  },
  {
   "cell_type": "code",
   "execution_count": 58,
   "metadata": {},
   "outputs": [],
   "source": [
    "# We need y_train and y_validate to be dataframes to append the new columns with predicted values.\n",
    "#make it a dataframe\n",
    "y_train= pd.DataFrame({'actual': y_train})\n",
    "y_validate = pd.DataFrame({'actual': y_validate})"
   ]
  },
  {
   "cell_type": "code",
   "execution_count": 59,
   "metadata": {},
   "outputs": [
    {
     "data": {
      "text/html": [
       "<div>\n",
       "<style scoped>\n",
       "    .dataframe tbody tr th:only-of-type {\n",
       "        vertical-align: middle;\n",
       "    }\n",
       "\n",
       "    .dataframe tbody tr th {\n",
       "        vertical-align: top;\n",
       "    }\n",
       "\n",
       "    .dataframe thead th {\n",
       "        text-align: right;\n",
       "    }\n",
       "</style>\n",
       "<table border=\"1\" class=\"dataframe\">\n",
       "  <thead>\n",
       "    <tr style=\"text-align: right;\">\n",
       "      <th></th>\n",
       "      <th>actual</th>\n",
       "    </tr>\n",
       "  </thead>\n",
       "  <tbody>\n",
       "    <tr>\n",
       "      <th>17622</th>\n",
       "      <td>326735.0</td>\n",
       "    </tr>\n",
       "    <tr>\n",
       "      <th>26216</th>\n",
       "      <td>1357426.0</td>\n",
       "    </tr>\n",
       "    <tr>\n",
       "      <th>6909</th>\n",
       "      <td>568000.0</td>\n",
       "    </tr>\n",
       "    <tr>\n",
       "      <th>4048</th>\n",
       "      <td>93854.0</td>\n",
       "    </tr>\n",
       "    <tr>\n",
       "      <th>24719</th>\n",
       "      <td>61457.0</td>\n",
       "    </tr>\n",
       "  </tbody>\n",
       "</table>\n",
       "</div>"
      ],
      "text/plain": [
       "          actual\n",
       "17622   326735.0\n",
       "26216  1357426.0\n",
       "6909    568000.0\n",
       "4048     93854.0\n",
       "24719    61457.0"
      ]
     },
     "execution_count": 59,
     "metadata": {},
     "output_type": "execute_result"
    }
   ],
   "source": [
    "#verifying actual column was added\n",
    "\n",
    "y_train.head()"
   ]
  },
  {
   "cell_type": "code",
   "execution_count": 60,
   "metadata": {},
   "outputs": [
    {
     "data": {
      "text/html": [
       "<div>\n",
       "<style scoped>\n",
       "    .dataframe tbody tr th:only-of-type {\n",
       "        vertical-align: middle;\n",
       "    }\n",
       "\n",
       "    .dataframe tbody tr th {\n",
       "        vertical-align: top;\n",
       "    }\n",
       "\n",
       "    .dataframe thead th {\n",
       "        text-align: right;\n",
       "    }\n",
       "</style>\n",
       "<table border=\"1\" class=\"dataframe\">\n",
       "  <thead>\n",
       "    <tr style=\"text-align: right;\">\n",
       "      <th></th>\n",
       "      <th>actual</th>\n",
       "    </tr>\n",
       "  </thead>\n",
       "  <tbody>\n",
       "    <tr>\n",
       "      <th>20450</th>\n",
       "      <td>728000.0</td>\n",
       "    </tr>\n",
       "    <tr>\n",
       "      <th>18935</th>\n",
       "      <td>6700650.0</td>\n",
       "    </tr>\n",
       "    <tr>\n",
       "      <th>23732</th>\n",
       "      <td>49863.0</td>\n",
       "    </tr>\n",
       "    <tr>\n",
       "      <th>19000</th>\n",
       "      <td>1560000.0</td>\n",
       "    </tr>\n",
       "    <tr>\n",
       "      <th>17146</th>\n",
       "      <td>336547.0</td>\n",
       "    </tr>\n",
       "  </tbody>\n",
       "</table>\n",
       "</div>"
      ],
      "text/plain": [
       "          actual\n",
       "20450   728000.0\n",
       "18935  6700650.0\n",
       "23732    49863.0\n",
       "19000  1560000.0\n",
       "17146   336547.0"
      ]
     },
     "execution_count": 60,
     "metadata": {},
     "output_type": "execute_result"
    }
   ],
   "source": [
    "y_validate.head()"
   ]
  },
  {
   "cell_type": "code",
   "execution_count": 61,
   "metadata": {},
   "outputs": [],
   "source": [
    "#Created baseline\n",
    "baseline= y_train['actual'].mean()"
   ]
  },
  {
   "cell_type": "code",
   "execution_count": 62,
   "metadata": {},
   "outputs": [],
   "source": [
    "#Making baseline column\n",
    "y_train['baseline'] = baseline"
   ]
  },
  {
   "cell_type": "code",
   "execution_count": 63,
   "metadata": {},
   "outputs": [
    {
     "data": {
      "text/html": [
       "<div>\n",
       "<style scoped>\n",
       "    .dataframe tbody tr th:only-of-type {\n",
       "        vertical-align: middle;\n",
       "    }\n",
       "\n",
       "    .dataframe tbody tr th {\n",
       "        vertical-align: top;\n",
       "    }\n",
       "\n",
       "    .dataframe thead th {\n",
       "        text-align: right;\n",
       "    }\n",
       "</style>\n",
       "<table border=\"1\" class=\"dataframe\">\n",
       "  <thead>\n",
       "    <tr style=\"text-align: right;\">\n",
       "      <th></th>\n",
       "      <th>actual</th>\n",
       "      <th>baseline</th>\n",
       "    </tr>\n",
       "  </thead>\n",
       "  <tbody>\n",
       "    <tr>\n",
       "      <th>17622</th>\n",
       "      <td>326735.0</td>\n",
       "      <td>436271.273331</td>\n",
       "    </tr>\n",
       "    <tr>\n",
       "      <th>26216</th>\n",
       "      <td>1357426.0</td>\n",
       "      <td>436271.273331</td>\n",
       "    </tr>\n",
       "    <tr>\n",
       "      <th>6909</th>\n",
       "      <td>568000.0</td>\n",
       "      <td>436271.273331</td>\n",
       "    </tr>\n",
       "    <tr>\n",
       "      <th>4048</th>\n",
       "      <td>93854.0</td>\n",
       "      <td>436271.273331</td>\n",
       "    </tr>\n",
       "    <tr>\n",
       "      <th>24719</th>\n",
       "      <td>61457.0</td>\n",
       "      <td>436271.273331</td>\n",
       "    </tr>\n",
       "  </tbody>\n",
       "</table>\n",
       "</div>"
      ],
      "text/plain": [
       "          actual       baseline\n",
       "17622   326735.0  436271.273331\n",
       "26216  1357426.0  436271.273331\n",
       "6909    568000.0  436271.273331\n",
       "4048     93854.0  436271.273331\n",
       "24719    61457.0  436271.273331"
      ]
     },
     "execution_count": 63,
     "metadata": {},
     "output_type": "execute_result"
    }
   ],
   "source": [
    "#verifying baseline column was added\n",
    "y_train.head()"
   ]
  },
  {
   "cell_type": "code",
   "execution_count": 64,
   "metadata": {},
   "outputs": [
    {
     "name": "stdout",
     "output_type": "stream",
     "text": [
      "Train RMSE baseline model:\n"
     ]
    },
    {
     "data": {
      "text/plain": [
       "398649.2186206569"
      ]
     },
     "execution_count": 64,
     "metadata": {},
     "output_type": "execute_result"
    }
   ],
   "source": [
    "#calculate RMSE for baseline model\n",
    "print('Train RMSE baseline model:')\n",
    "math.sqrt(mean_squared_error(y_train.actual, y_train.baseline))"
   ]
  },
  {
   "cell_type": "code",
   "execution_count": 65,
   "metadata": {},
   "outputs": [],
   "source": [
    "#creating baseline, actual, and prediction column for validate dataset\n",
    "y_validate['baseline']= y_train.actual.mean()"
   ]
  },
  {
   "cell_type": "code",
   "execution_count": 66,
   "metadata": {},
   "outputs": [
    {
     "data": {
      "text/plain": [
       "LinearRegression(normalize=True)"
      ]
     },
     "execution_count": 66,
     "metadata": {},
     "output_type": "execute_result"
    }
   ],
   "source": [
    "#OLS regression model 1: Train dataset\n",
    "#Created the object\n",
    "model1= LinearRegression(normalize= True)\n",
    "model1.fit(X_train_scaled[['bedroomcnt', 'bathroomcnt', 'calculatedfinishedsquarefeet']], y_train.actual)"
   ]
  },
  {
   "cell_type": "code",
   "execution_count": 67,
   "metadata": {},
   "outputs": [
    {
     "data": {
      "text/plain": [
       "bedroomcnt                      0\n",
       "bathroomcnt                     0\n",
       "calculatedfinishedsquarefeet    0\n",
       "yearbuilt                       0\n",
       "fips                            0\n",
       "parcelid                        0\n",
       "dtype: int64"
      ]
     },
     "execution_count": 67,
     "metadata": {},
     "output_type": "execute_result"
    }
   ],
   "source": [
    "X_train_scaled.isnull().sum() #checking nulls for X_train_scaled"
   ]
  },
  {
   "cell_type": "code",
   "execution_count": 116,
   "metadata": {},
   "outputs": [
    {
     "data": {
      "text/plain": [
       "actual                       0\n",
       "baseline                     0\n",
       "model1                       0\n",
       "appraised_value_pred_lars    0\n",
       "appraised_value_pred_glm     0\n",
       "dtype: int64"
      ]
     },
     "execution_count": 116,
     "metadata": {},
     "output_type": "execute_result"
    }
   ],
   "source": [
    "y_train.isnull().sum() # checking nulls for y_train"
   ]
  },
  {
   "cell_type": "code",
   "execution_count": 117,
   "metadata": {},
   "outputs": [],
   "source": [
    "#creating prediction column: used model to create predictions and then added it to the y_train\n",
    "y_train['model1'] = model1.predict(X_train_scaled[['bedroomcnt', 'bathroomcnt', 'calculatedfinishedsquarefeet']])"
   ]
  },
  {
   "cell_type": "code",
   "execution_count": 118,
   "metadata": {},
   "outputs": [
    {
     "data": {
      "text/html": [
       "<div>\n",
       "<style scoped>\n",
       "    .dataframe tbody tr th:only-of-type {\n",
       "        vertical-align: middle;\n",
       "    }\n",
       "\n",
       "    .dataframe tbody tr th {\n",
       "        vertical-align: top;\n",
       "    }\n",
       "\n",
       "    .dataframe thead th {\n",
       "        text-align: right;\n",
       "    }\n",
       "</style>\n",
       "<table border=\"1\" class=\"dataframe\">\n",
       "  <thead>\n",
       "    <tr style=\"text-align: right;\">\n",
       "      <th></th>\n",
       "      <th>actual</th>\n",
       "      <th>baseline</th>\n",
       "      <th>model1</th>\n",
       "      <th>appraised_value_pred_lars</th>\n",
       "      <th>appraised_value_pred_glm</th>\n",
       "    </tr>\n",
       "  </thead>\n",
       "  <tbody>\n",
       "    <tr>\n",
       "      <th>17622</th>\n",
       "      <td>326735.0</td>\n",
       "      <td>436271.273331</td>\n",
       "      <td>425048.816763</td>\n",
       "      <td>425013.102490</td>\n",
       "      <td>425048.817594</td>\n",
       "    </tr>\n",
       "    <tr>\n",
       "      <th>26216</th>\n",
       "      <td>1357426.0</td>\n",
       "      <td>436271.273331</td>\n",
       "      <td>582728.744442</td>\n",
       "      <td>582987.156645</td>\n",
       "      <td>582728.743170</td>\n",
       "    </tr>\n",
       "    <tr>\n",
       "      <th>6909</th>\n",
       "      <td>568000.0</td>\n",
       "      <td>436271.273331</td>\n",
       "      <td>641491.724415</td>\n",
       "      <td>641082.816950</td>\n",
       "      <td>641491.725077</td>\n",
       "    </tr>\n",
       "    <tr>\n",
       "      <th>4048</th>\n",
       "      <td>93854.0</td>\n",
       "      <td>436271.273331</td>\n",
       "      <td>449770.133051</td>\n",
       "      <td>450169.139235</td>\n",
       "      <td>449770.130834</td>\n",
       "    </tr>\n",
       "    <tr>\n",
       "      <th>24719</th>\n",
       "      <td>61457.0</td>\n",
       "      <td>436271.273331</td>\n",
       "      <td>218028.932046</td>\n",
       "      <td>218053.855746</td>\n",
       "      <td>218028.933872</td>\n",
       "    </tr>\n",
       "  </tbody>\n",
       "</table>\n",
       "</div>"
      ],
      "text/plain": [
       "          actual       baseline         model1  appraised_value_pred_lars  \\\n",
       "17622   326735.0  436271.273331  425048.816763              425013.102490   \n",
       "26216  1357426.0  436271.273331  582728.744442              582987.156645   \n",
       "6909    568000.0  436271.273331  641491.724415              641082.816950   \n",
       "4048     93854.0  436271.273331  449770.133051              450169.139235   \n",
       "24719    61457.0  436271.273331  218028.932046              218053.855746   \n",
       "\n",
       "       appraised_value_pred_glm  \n",
       "17622             425048.817594  \n",
       "26216             582728.743170  \n",
       "6909              641491.725077  \n",
       "4048              449770.130834  \n",
       "24719             218028.933872  "
      ]
     },
     "execution_count": 118,
     "metadata": {},
     "output_type": "execute_result"
    }
   ],
   "source": [
    "y_train.head()"
   ]
  },
  {
   "cell_type": "code",
   "execution_count": 119,
   "metadata": {},
   "outputs": [],
   "source": [
    "#calculate RMSE for model\n",
    "rmse_train=math.sqrt(mean_squared_error(y_train.actual, y_train.model1))"
   ]
  },
  {
   "cell_type": "code",
   "execution_count": 120,
   "metadata": {},
   "outputs": [],
   "source": [
    "#creating prediction column for validate dataset\n",
    "y_validate['model1'] = model1.predict(X_validate_scaled[['bedroomcnt', 'bathroomcnt', 'calculatedfinishedsquarefeet']])"
   ]
  },
  {
   "cell_type": "code",
   "execution_count": 121,
   "metadata": {},
   "outputs": [],
   "source": [
    "#calculate RMSE for validate model\n",
    "rmse_validate= math.sqrt(mean_squared_error(y_validate.actual, y_validate.model1))"
   ]
  },
  {
   "cell_type": "code",
   "execution_count": 122,
   "metadata": {},
   "outputs": [
    {
     "name": "stdout",
     "output_type": "stream",
     "text": [
      "RMSE for LinerRegression\n",
      "Training/In-Sample:  355371.99612718326 \n",
      "Validation/Out-of-Sample:  394367.72376303555\n"
     ]
    }
   ],
   "source": [
    "print(\"RMSE for LinerRegression\\nTraining/In-Sample: \", rmse_train, \n",
    "      \"\\nValidation/Out-of-Sample: \", rmse_validate)"
   ]
  },
  {
   "cell_type": "code",
   "execution_count": 74,
   "metadata": {},
   "outputs": [
    {
     "data": {
      "text/html": [
       "<div>\n",
       "<style scoped>\n",
       "    .dataframe tbody tr th:only-of-type {\n",
       "        vertical-align: middle;\n",
       "    }\n",
       "\n",
       "    .dataframe tbody tr th {\n",
       "        vertical-align: top;\n",
       "    }\n",
       "\n",
       "    .dataframe thead th {\n",
       "        text-align: right;\n",
       "    }\n",
       "</style>\n",
       "<table border=\"1\" class=\"dataframe\">\n",
       "  <thead>\n",
       "    <tr style=\"text-align: right;\">\n",
       "      <th></th>\n",
       "      <th>actual</th>\n",
       "      <th>baseline</th>\n",
       "      <th>model1</th>\n",
       "    </tr>\n",
       "  </thead>\n",
       "  <tbody>\n",
       "    <tr>\n",
       "      <th>20450</th>\n",
       "      <td>728000.0</td>\n",
       "      <td>436271.273331</td>\n",
       "      <td>598315.411613</td>\n",
       "    </tr>\n",
       "    <tr>\n",
       "      <th>18935</th>\n",
       "      <td>6700650.0</td>\n",
       "      <td>436271.273331</td>\n",
       "      <td>417124.131316</td>\n",
       "    </tr>\n",
       "    <tr>\n",
       "      <th>23732</th>\n",
       "      <td>49863.0</td>\n",
       "      <td>436271.273331</td>\n",
       "      <td>186005.880243</td>\n",
       "    </tr>\n",
       "    <tr>\n",
       "      <th>19000</th>\n",
       "      <td>1560000.0</td>\n",
       "      <td>436271.273331</td>\n",
       "      <td>514274.904761</td>\n",
       "    </tr>\n",
       "    <tr>\n",
       "      <th>17146</th>\n",
       "      <td>336547.0</td>\n",
       "      <td>436271.273331</td>\n",
       "      <td>238574.412835</td>\n",
       "    </tr>\n",
       "  </tbody>\n",
       "</table>\n",
       "</div>"
      ],
      "text/plain": [
       "          actual       baseline         model1\n",
       "20450   728000.0  436271.273331  598315.411613\n",
       "18935  6700650.0  436271.273331  417124.131316\n",
       "23732    49863.0  436271.273331  186005.880243\n",
       "19000  1560000.0  436271.273331  514274.904761\n",
       "17146   336547.0  436271.273331  238574.412835"
      ]
     },
     "execution_count": 74,
     "metadata": {},
     "output_type": "execute_result"
    }
   ],
   "source": [
    "y_validate.head()"
   ]
  },
  {
   "cell_type": "code",
   "execution_count": 104,
   "metadata": {},
   "outputs": [
    {
     "data": {
      "text/plain": [
       "LassoLars()"
      ]
     },
     "execution_count": 104,
     "metadata": {},
     "output_type": "execute_result"
    }
   ],
   "source": [
    "# LassoLars Project\n",
    "\n",
    "# create the model object\n",
    "lars = LassoLars(alpha=1.0)\n",
    "# fit the model to our training data. We must specify the column in y_train, \n",
    "# since we have converted it to a dataframe from a series! \n",
    "lars.fit(X_train_scaled[['bedroomcnt', 'bathroomcnt', 'calculatedfinishedsquarefeet']], y_train.actual)"
   ]
  },
  {
   "cell_type": "code",
   "execution_count": 105,
   "metadata": {},
   "outputs": [
    {
     "data": {
      "text/html": [
       "<div>\n",
       "<style scoped>\n",
       "    .dataframe tbody tr th:only-of-type {\n",
       "        vertical-align: middle;\n",
       "    }\n",
       "\n",
       "    .dataframe tbody tr th {\n",
       "        vertical-align: top;\n",
       "    }\n",
       "\n",
       "    .dataframe thead th {\n",
       "        text-align: right;\n",
       "    }\n",
       "</style>\n",
       "<table border=\"1\" class=\"dataframe\">\n",
       "  <thead>\n",
       "    <tr style=\"text-align: right;\">\n",
       "      <th></th>\n",
       "      <th>bedroomcnt</th>\n",
       "      <th>bathroomcnt</th>\n",
       "      <th>calculatedfinishedsquarefeet</th>\n",
       "      <th>yearbuilt</th>\n",
       "      <th>fips</th>\n",
       "      <th>parcelid</th>\n",
       "    </tr>\n",
       "  </thead>\n",
       "  <tbody>\n",
       "    <tr>\n",
       "      <th>17622</th>\n",
       "      <td>3.0</td>\n",
       "      <td>2.0</td>\n",
       "      <td>0.378858</td>\n",
       "      <td>1950.0</td>\n",
       "      <td>6037.0</td>\n",
       "      <td>12482091</td>\n",
       "    </tr>\n",
       "    <tr>\n",
       "      <th>26216</th>\n",
       "      <td>5.0</td>\n",
       "      <td>3.0</td>\n",
       "      <td>0.709783</td>\n",
       "      <td>1951.0</td>\n",
       "      <td>6059.0</td>\n",
       "      <td>13889789</td>\n",
       "    </tr>\n",
       "    <tr>\n",
       "      <th>6909</th>\n",
       "      <td>3.0</td>\n",
       "      <td>3.0</td>\n",
       "      <td>0.561392</td>\n",
       "      <td>1988.0</td>\n",
       "      <td>6037.0</td>\n",
       "      <td>11344899</td>\n",
       "    </tr>\n",
       "    <tr>\n",
       "      <th>4048</th>\n",
       "      <td>5.0</td>\n",
       "      <td>3.0</td>\n",
       "      <td>0.561064</td>\n",
       "      <td>1971.0</td>\n",
       "      <td>6111.0</td>\n",
       "      <td>17246190</td>\n",
       "    </tr>\n",
       "    <tr>\n",
       "      <th>24719</th>\n",
       "      <td>2.0</td>\n",
       "      <td>1.0</td>\n",
       "      <td>0.099803</td>\n",
       "      <td>1925.0</td>\n",
       "      <td>6037.0</td>\n",
       "      <td>12359021</td>\n",
       "    </tr>\n",
       "  </tbody>\n",
       "</table>\n",
       "</div>"
      ],
      "text/plain": [
       "       bedroomcnt  bathroomcnt  calculatedfinishedsquarefeet  yearbuilt  \\\n",
       "17622         3.0          2.0                      0.378858     1950.0   \n",
       "26216         5.0          3.0                      0.709783     1951.0   \n",
       "6909          3.0          3.0                      0.561392     1988.0   \n",
       "4048          5.0          3.0                      0.561064     1971.0   \n",
       "24719         2.0          1.0                      0.099803     1925.0   \n",
       "\n",
       "         fips  parcelid  \n",
       "17622  6037.0  12482091  \n",
       "26216  6059.0  13889789  \n",
       "6909   6037.0  11344899  \n",
       "4048   6111.0  17246190  \n",
       "24719  6037.0  12359021  "
      ]
     },
     "execution_count": 105,
     "metadata": {},
     "output_type": "execute_result"
    }
   ],
   "source": [
    "X_train_scaled.head()"
   ]
  },
  {
   "cell_type": "code",
   "execution_count": 106,
   "metadata": {},
   "outputs": [
    {
     "data": {
      "text/html": [
       "<div>\n",
       "<style scoped>\n",
       "    .dataframe tbody tr th:only-of-type {\n",
       "        vertical-align: middle;\n",
       "    }\n",
       "\n",
       "    .dataframe tbody tr th {\n",
       "        vertical-align: top;\n",
       "    }\n",
       "\n",
       "    .dataframe thead th {\n",
       "        text-align: right;\n",
       "    }\n",
       "</style>\n",
       "<table border=\"1\" class=\"dataframe\">\n",
       "  <thead>\n",
       "    <tr style=\"text-align: right;\">\n",
       "      <th></th>\n",
       "      <th>actual</th>\n",
       "      <th>baseline</th>\n",
       "      <th>model1</th>\n",
       "      <th>appraised_value_pred_lars</th>\n",
       "      <th>appraised_value_pred_glm</th>\n",
       "    </tr>\n",
       "  </thead>\n",
       "  <tbody>\n",
       "    <tr>\n",
       "      <th>17622</th>\n",
       "      <td>326735.0</td>\n",
       "      <td>436271.273331</td>\n",
       "      <td>425048.816763</td>\n",
       "      <td>425013.102490</td>\n",
       "      <td>425048.817594</td>\n",
       "    </tr>\n",
       "    <tr>\n",
       "      <th>26216</th>\n",
       "      <td>1357426.0</td>\n",
       "      <td>436271.273331</td>\n",
       "      <td>582728.744442</td>\n",
       "      <td>582987.156645</td>\n",
       "      <td>582728.743170</td>\n",
       "    </tr>\n",
       "    <tr>\n",
       "      <th>6909</th>\n",
       "      <td>568000.0</td>\n",
       "      <td>436271.273331</td>\n",
       "      <td>641491.724415</td>\n",
       "      <td>641082.816950</td>\n",
       "      <td>641491.725077</td>\n",
       "    </tr>\n",
       "    <tr>\n",
       "      <th>4048</th>\n",
       "      <td>93854.0</td>\n",
       "      <td>436271.273331</td>\n",
       "      <td>449770.133051</td>\n",
       "      <td>450169.139235</td>\n",
       "      <td>449770.130834</td>\n",
       "    </tr>\n",
       "    <tr>\n",
       "      <th>24719</th>\n",
       "      <td>61457.0</td>\n",
       "      <td>436271.273331</td>\n",
       "      <td>218028.932046</td>\n",
       "      <td>218053.855746</td>\n",
       "      <td>218028.933872</td>\n",
       "    </tr>\n",
       "  </tbody>\n",
       "</table>\n",
       "</div>"
      ],
      "text/plain": [
       "          actual       baseline         model1  appraised_value_pred_lars  \\\n",
       "17622   326735.0  436271.273331  425048.816763              425013.102490   \n",
       "26216  1357426.0  436271.273331  582728.744442              582987.156645   \n",
       "6909    568000.0  436271.273331  641491.724415              641082.816950   \n",
       "4048     93854.0  436271.273331  449770.133051              450169.139235   \n",
       "24719    61457.0  436271.273331  218028.932046              218053.855746   \n",
       "\n",
       "       appraised_value_pred_glm  \n",
       "17622             425048.817594  \n",
       "26216             582728.743170  \n",
       "6909              641491.725077  \n",
       "4048              449770.130834  \n",
       "24719             218028.933872  "
      ]
     },
     "execution_count": 106,
     "metadata": {},
     "output_type": "execute_result"
    }
   ],
   "source": [
    "y_train.head()"
   ]
  },
  {
   "cell_type": "code",
   "execution_count": 123,
   "metadata": {},
   "outputs": [],
   "source": [
    "# predict train\n",
    "y_train['appraised_value_pred_lars'] = lars.predict(X_train_scaled[['bedroomcnt', 'bathroomcnt', 'calculatedfinishedsquarefeet']])"
   ]
  },
  {
   "cell_type": "code",
   "execution_count": 124,
   "metadata": {},
   "outputs": [],
   "source": [
    "# evaluate: rmse\n",
    "rmse_train2 = mean_squared_error(y_train.actual, y_train.appraised_value_pred_lars)**(1/2)"
   ]
  },
  {
   "cell_type": "code",
   "execution_count": 125,
   "metadata": {},
   "outputs": [],
   "source": [
    "# predict validate\n",
    "y_validate['appraised_value_pred_lars'] = lars.predict(X_validate_scaled[['bedroomcnt', 'bathroomcnt', 'calculatedfinishedsquarefeet']])\n",
    "# evaluate: rmse\n",
    "rmse_validate2 = mean_squared_error(y_validate.actual, y_validate.appraised_value_pred_lars)**(1/2)\n"
   ]
  },
  {
   "cell_type": "code",
   "execution_count": 126,
   "metadata": {},
   "outputs": [
    {
     "name": "stdout",
     "output_type": "stream",
     "text": [
      "RMSE for Lasso + Lars\n",
      "Training/In-Sample:  355372.10845950997 \n",
      "Validation/Out-of-Sample:  394369.84760229435\n"
     ]
    }
   ],
   "source": [
    "print(\"RMSE for Lasso + Lars\\nTraining/In-Sample: \", rmse_train2, \n",
    "      \"\\nValidation/Out-of-Sample: \", rmse_validate2)"
   ]
  },
  {
   "cell_type": "code",
   "execution_count": 127,
   "metadata": {},
   "outputs": [
    {
     "data": {
      "text/plain": [
       "TweedieRegressor(alpha=0, power=0)"
      ]
     },
     "execution_count": 127,
     "metadata": {},
     "output_type": "execute_result"
    }
   ],
   "source": [
    "# create the model object\n",
    "glm = TweedieRegressor(power=0, alpha=0)\n",
    "\n",
    "# fit the model to our training data. We must specify the column in y_train, \n",
    "# since we have converted it to a dataframe from a series! \n",
    "glm.fit(X_train_scaled[['bedroomcnt', 'bathroomcnt', 'calculatedfinishedsquarefeet']], y_train.actual)\n"
   ]
  },
  {
   "cell_type": "code",
   "execution_count": 128,
   "metadata": {},
   "outputs": [
    {
     "data": {
      "text/html": [
       "<div>\n",
       "<style scoped>\n",
       "    .dataframe tbody tr th:only-of-type {\n",
       "        vertical-align: middle;\n",
       "    }\n",
       "\n",
       "    .dataframe tbody tr th {\n",
       "        vertical-align: top;\n",
       "    }\n",
       "\n",
       "    .dataframe thead th {\n",
       "        text-align: right;\n",
       "    }\n",
       "</style>\n",
       "<table border=\"1\" class=\"dataframe\">\n",
       "  <thead>\n",
       "    <tr style=\"text-align: right;\">\n",
       "      <th></th>\n",
       "      <th>bedroomcnt</th>\n",
       "      <th>bathroomcnt</th>\n",
       "      <th>calculatedfinishedsquarefeet</th>\n",
       "      <th>yearbuilt</th>\n",
       "      <th>fips</th>\n",
       "      <th>parcelid</th>\n",
       "    </tr>\n",
       "  </thead>\n",
       "  <tbody>\n",
       "    <tr>\n",
       "      <th>17622</th>\n",
       "      <td>3.0</td>\n",
       "      <td>2.0</td>\n",
       "      <td>0.378858</td>\n",
       "      <td>1950.0</td>\n",
       "      <td>6037.0</td>\n",
       "      <td>12482091</td>\n",
       "    </tr>\n",
       "    <tr>\n",
       "      <th>26216</th>\n",
       "      <td>5.0</td>\n",
       "      <td>3.0</td>\n",
       "      <td>0.709783</td>\n",
       "      <td>1951.0</td>\n",
       "      <td>6059.0</td>\n",
       "      <td>13889789</td>\n",
       "    </tr>\n",
       "    <tr>\n",
       "      <th>6909</th>\n",
       "      <td>3.0</td>\n",
       "      <td>3.0</td>\n",
       "      <td>0.561392</td>\n",
       "      <td>1988.0</td>\n",
       "      <td>6037.0</td>\n",
       "      <td>11344899</td>\n",
       "    </tr>\n",
       "    <tr>\n",
       "      <th>4048</th>\n",
       "      <td>5.0</td>\n",
       "      <td>3.0</td>\n",
       "      <td>0.561064</td>\n",
       "      <td>1971.0</td>\n",
       "      <td>6111.0</td>\n",
       "      <td>17246190</td>\n",
       "    </tr>\n",
       "    <tr>\n",
       "      <th>24719</th>\n",
       "      <td>2.0</td>\n",
       "      <td>1.0</td>\n",
       "      <td>0.099803</td>\n",
       "      <td>1925.0</td>\n",
       "      <td>6037.0</td>\n",
       "      <td>12359021</td>\n",
       "    </tr>\n",
       "  </tbody>\n",
       "</table>\n",
       "</div>"
      ],
      "text/plain": [
       "       bedroomcnt  bathroomcnt  calculatedfinishedsquarefeet  yearbuilt  \\\n",
       "17622         3.0          2.0                      0.378858     1950.0   \n",
       "26216         5.0          3.0                      0.709783     1951.0   \n",
       "6909          3.0          3.0                      0.561392     1988.0   \n",
       "4048          5.0          3.0                      0.561064     1971.0   \n",
       "24719         2.0          1.0                      0.099803     1925.0   \n",
       "\n",
       "         fips  parcelid  \n",
       "17622  6037.0  12482091  \n",
       "26216  6059.0  13889789  \n",
       "6909   6037.0  11344899  \n",
       "4048   6111.0  17246190  \n",
       "24719  6037.0  12359021  "
      ]
     },
     "execution_count": 128,
     "metadata": {},
     "output_type": "execute_result"
    }
   ],
   "source": [
    "X_train_scaled.head()"
   ]
  },
  {
   "cell_type": "code",
   "execution_count": 129,
   "metadata": {},
   "outputs": [
    {
     "name": "stdout",
     "output_type": "stream",
     "text": [
      "RMSE for GLM using Tweedie, power=1 & alpha=0\n",
      "Training/In-Sample:  355371.99612718326 \n",
      "Validation/Out-of-Sample:  394367.72378248355\n"
     ]
    }
   ],
   "source": [
    "# predict train\n",
    "y_train['appraised_value_pred_glm'] = glm.predict(X_train_scaled[['bedroomcnt', 'bathroomcnt', 'calculatedfinishedsquarefeet']])\n",
    "\n",
    "# evaluate: rmse\n",
    "rmse_train3 = mean_squared_error(y_train.actual, y_train.appraised_value_pred_glm)**(1/2)\n",
    "\n",
    "# predict validate\n",
    "y_validate['appraised_value_pred_glm'] = glm.predict(X_validate_scaled[['bedroomcnt', 'bathroomcnt', 'calculatedfinishedsquarefeet']])\n",
    "\n",
    "# evaluate: rmse\n",
    "rmse_validate3 = mean_squared_error(y_validate.actual, y_validate.appraised_value_pred_glm)**(1/2)\n",
    "\n",
    "print(\"RMSE for GLM using Tweedie, power=1 & alpha=0\\nTraining/In-Sample: \", rmse_train3, \n",
    "      \"\\nValidation/Out-of-Sample: \", rmse_validate3)"
   ]
  },
  {
   "cell_type": "code",
   "execution_count": 131,
   "metadata": {},
   "outputs": [
    {
     "name": "stdout",
     "output_type": "stream",
     "text": [
      "RMSE for LinerRegression\n",
      "Training/In-Sample:  355371.99612718326 \n",
      "Validation/Out-of-Sample:  394367.72376303555\n",
      "RMSE for Lasso + Lars\n",
      "Training/In-Sample:  355372.10845950997 \n",
      "Validation/Out-of-Sample:  394369.84760229435\n",
      "RMSE for GLM using Tweedie, power=1 & alpha=0\n",
      "Training/In-Sample:  355371.99612718326 \n",
      "Validation/Out-of-Sample:  394367.72378248355\n"
     ]
    }
   ],
   "source": [
    "#All score together\n",
    "print(\"RMSE for LinerRegression\\nTraining/In-Sample: \", rmse_train, \n",
    "      \"\\nValidation/Out-of-Sample: \", rmse_validate)\n",
    "\n",
    "print(\"RMSE for Lasso + Lars\\nTraining/In-Sample: \", rmse_train2, \n",
    "      \"\\nValidation/Out-of-Sample: \", rmse_validate2)\n",
    "\n",
    "print(\"RMSE for GLM using Tweedie, power=1 & alpha=0\\nTraining/In-Sample: \", rmse_train3, \n",
    "      \"\\nValidation/Out-of-Sample: \", rmse_validate3)\n"
   ]
  },
  {
   "cell_type": "code",
   "execution_count": 130,
   "metadata": {},
   "outputs": [],
   "source": [
    "#Add R2 scores\n",
    "#graph models"
   ]
  },
  {
   "cell_type": "markdown",
   "metadata": {},
   "source": [
    "# Additional Deliverables"
   ]
  },
  {
   "cell_type": "code",
   "execution_count": 85,
   "metadata": {},
   "outputs": [],
   "source": [
    "# create Tax_rate column\n",
    "zillow_df['tax_rate'] =zillow_df['taxamount']/ zillow_df['taxvaluedollarcnt']"
   ]
  },
  {
   "cell_type": "code",
   "execution_count": null,
   "metadata": {},
   "outputs": [],
   "source": [
    "#Do fips (state and counties)- Do dictionary?"
   ]
  },
  {
   "cell_type": "code",
   "execution_count": 90,
   "metadata": {},
   "outputs": [
    {
     "data": {
      "text/plain": [
       "6037.0    16484\n",
       "6059.0     6926\n",
       "6111.0     2403\n",
       "Name: fips, dtype: int64"
      ]
     },
     "execution_count": 90,
     "metadata": {},
     "output_type": "execute_result"
    }
   ],
   "source": [
    "#Looking at unique values for the fips columns\n",
    "zillow_df['fips'].value_counts()"
   ]
  },
  {
   "cell_type": "code",
   "execution_count": 91,
   "metadata": {},
   "outputs": [
    {
     "data": {
      "text/plain": [
       "Los Angeles    16484\n",
       "Orange          6926\n",
       "Ventura         2403\n",
       "Name: county_name, dtype: int64"
      ]
     },
     "execution_count": 91,
     "metadata": {},
     "output_type": "execute_result"
    }
   ],
   "source": [
    "# add the name of the county based on the FIPS numbers\n",
    "zillow_df['county_name'] = zillow_df['fips'].map({6037: 'Los Angeles', 6059: 'Orange', 6111: 'Ventura'})\n",
    "\n",
    "# show counts by county\n",
    "zillow_df.county_name.value_counts()"
   ]
  },
  {
   "cell_type": "code",
   "execution_count": 103,
   "metadata": {},
   "outputs": [
    {
     "data": {
      "text/plain": [
       "(0.0, 0.05)"
      ]
     },
     "execution_count": 103,
     "metadata": {},
     "output_type": "execute_result"
    },
    {
     "data": {
      "image/png": "[encoded data removed]",
      "text/plain": [
       "<Figure size 1008x720 with 1 Axes>"
      ]
     },
     "metadata": {
      "needs_background": "light"
     },
     "output_type": "display_data"
    }
   ],
   "source": [
    "plt.figure(figsize=(14,10))\n",
    "sns.histplot(data=zillow_df, x=\"tax_rate\", hue=\"fips\",kde = False, bins = 750,  palette={6037:'violet', 6059:'aqua', 6111:'navy'})\n",
    "\n",
    "plt.xlim(0, 0.05)"
   ]
  },
  {
   "cell_type": "code",
   "execution_count": null,
   "metadata": {},
   "outputs": [],
   "source": []
  }
 ],
 "metadata": {
  "kernelspec": {
   "display_name": "Python 3",
   "language": "python",
   "name": "python3"
  },
  "language_info": {
   "codemirror_mode": {
    "name": "ipython",
    "version": 3
   },
   "file_extension": ".py",
   "mimetype": "text/x-python",
   "name": "python",
   "nbconvert_exporter": "python",
   "pygments_lexer": "ipython3",
   "version": "3.8.5"
  }
 },
 "nbformat": 4,
 "nbformat_minor": 4
}
