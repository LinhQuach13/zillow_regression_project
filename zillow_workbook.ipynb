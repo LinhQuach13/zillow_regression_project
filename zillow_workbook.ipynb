{
 "cells": [
  {
   "cell_type": "code",
   "execution_count": 1,
   "metadata": {},
   "outputs": [],
   "source": [
    "import pandas as pd\n",
    "import numpy as np\n",
    "import os\n",
    "# acquire\n",
    "from env import host, user, password\n",
    "from pydataset import data\n",
    "\n",
    "# visualize\n",
    "import seaborn as sns\n",
    "import matplotlib.pyplot as plt\n",
    "plt.rc('figure', figsize=(11, 9))\n",
    "plt.rc('font', size=13)\n",
    "\n",
    "# turn off pink warning boxes\n",
    "import warnings\n",
    "warnings.filterwarnings(\"ignore\")\n",
    "\n",
    "import acquire"
   ]
  },
  {
   "cell_type": "markdown",
   "metadata": {},
   "source": [
    "# Acquire"
   ]
  },
  {
   "cell_type": "code",
   "execution_count": 2,
   "metadata": {},
   "outputs": [],
   "source": [
    "#acquire for zillow\n",
    "zillow_df= acquire.new_zillow_data()"
   ]
  },
  {
   "cell_type": "code",
   "execution_count": 3,
   "metadata": {},
   "outputs": [
    {
     "data": {
      "text/html": [
       "<div>\n",
       "<style scoped>\n",
       "    .dataframe tbody tr th:only-of-type {\n",
       "        vertical-align: middle;\n",
       "    }\n",
       "\n",
       "    .dataframe tbody tr th {\n",
       "        vertical-align: top;\n",
       "    }\n",
       "\n",
       "    .dataframe thead th {\n",
       "        text-align: right;\n",
       "    }\n",
       "</style>\n",
       "<table border=\"1\" class=\"dataframe\">\n",
       "  <thead>\n",
       "    <tr style=\"text-align: right;\">\n",
       "      <th></th>\n",
       "      <th>bedroomcnt</th>\n",
       "      <th>bathroomcnt</th>\n",
       "      <th>calculatedfinishedsquarefeet</th>\n",
       "      <th>unitcnt</th>\n",
       "      <th>taxvaluedollarcnt</th>\n",
       "      <th>yearbuilt</th>\n",
       "      <th>taxamount</th>\n",
       "      <th>fips</th>\n",
       "      <th>parcelid</th>\n",
       "    </tr>\n",
       "  </thead>\n",
       "  <tbody>\n",
       "    <tr>\n",
       "      <th>0</th>\n",
       "      <td>3.0</td>\n",
       "      <td>2.0</td>\n",
       "      <td>1316.0</td>\n",
       "      <td>1.0</td>\n",
       "      <td>205123.0</td>\n",
       "      <td>1923.0</td>\n",
       "      <td>2627.48</td>\n",
       "      <td>6037.0</td>\n",
       "      <td>11721753</td>\n",
       "    </tr>\n",
       "    <tr>\n",
       "      <th>1</th>\n",
       "      <td>3.0</td>\n",
       "      <td>2.0</td>\n",
       "      <td>1458.0</td>\n",
       "      <td>1.0</td>\n",
       "      <td>136104.0</td>\n",
       "      <td>1970.0</td>\n",
       "      <td>2319.90</td>\n",
       "      <td>6037.0</td>\n",
       "      <td>11289917</td>\n",
       "    </tr>\n",
       "    <tr>\n",
       "      <th>2</th>\n",
       "      <td>2.0</td>\n",
       "      <td>1.0</td>\n",
       "      <td>1421.0</td>\n",
       "      <td>1.0</td>\n",
       "      <td>35606.0</td>\n",
       "      <td>1911.0</td>\n",
       "      <td>543.69</td>\n",
       "      <td>6037.0</td>\n",
       "      <td>11705026</td>\n",
       "    </tr>\n",
       "    <tr>\n",
       "      <th>3</th>\n",
       "      <td>4.0</td>\n",
       "      <td>3.0</td>\n",
       "      <td>2541.0</td>\n",
       "      <td>NaN</td>\n",
       "      <td>880456.0</td>\n",
       "      <td>2003.0</td>\n",
       "      <td>9819.72</td>\n",
       "      <td>6059.0</td>\n",
       "      <td>14269464</td>\n",
       "    </tr>\n",
       "    <tr>\n",
       "      <th>4</th>\n",
       "      <td>3.0</td>\n",
       "      <td>2.0</td>\n",
       "      <td>1491.0</td>\n",
       "      <td>1.0</td>\n",
       "      <td>107110.0</td>\n",
       "      <td>1955.0</td>\n",
       "      <td>1399.27</td>\n",
       "      <td>6037.0</td>\n",
       "      <td>11446756</td>\n",
       "    </tr>\n",
       "  </tbody>\n",
       "</table>\n",
       "</div>"
      ],
      "text/plain": [
       "   bedroomcnt  bathroomcnt  calculatedfinishedsquarefeet  unitcnt  \\\n",
       "0         3.0          2.0                        1316.0      1.0   \n",
       "1         3.0          2.0                        1458.0      1.0   \n",
       "2         2.0          1.0                        1421.0      1.0   \n",
       "3         4.0          3.0                        2541.0      NaN   \n",
       "4         3.0          2.0                        1491.0      1.0   \n",
       "\n",
       "   taxvaluedollarcnt  yearbuilt  taxamount    fips  parcelid  \n",
       "0           205123.0     1923.0    2627.48  6037.0  11721753  \n",
       "1           136104.0     1970.0    2319.90  6037.0  11289917  \n",
       "2            35606.0     1911.0     543.69  6037.0  11705026  \n",
       "3           880456.0     2003.0    9819.72  6059.0  14269464  \n",
       "4           107110.0     1955.0    1399.27  6037.0  11446756  "
      ]
     },
     "execution_count": 3,
     "metadata": {},
     "output_type": "execute_result"
    }
   ],
   "source": [
    "#Looking at first 5 values\n",
    "zillow_df.head()"
   ]
  },
  {
   "cell_type": "code",
   "execution_count": 4,
   "metadata": {},
   "outputs": [
    {
     "data": {
      "text/plain": [
       "(28418, 9)"
      ]
     },
     "execution_count": 4,
     "metadata": {},
     "output_type": "execute_result"
    }
   ],
   "source": [
    "#28,000 rows and 8 columns\n",
    "zillow_df.shape"
   ]
  },
  {
   "cell_type": "code",
   "execution_count": 5,
   "metadata": {},
   "outputs": [
    {
     "data": {
      "text/html": [
       "<div>\n",
       "<style scoped>\n",
       "    .dataframe tbody tr th:only-of-type {\n",
       "        vertical-align: middle;\n",
       "    }\n",
       "\n",
       "    .dataframe tbody tr th {\n",
       "        vertical-align: top;\n",
       "    }\n",
       "\n",
       "    .dataframe thead th {\n",
       "        text-align: right;\n",
       "    }\n",
       "</style>\n",
       "<table border=\"1\" class=\"dataframe\">\n",
       "  <thead>\n",
       "    <tr style=\"text-align: right;\">\n",
       "      <th></th>\n",
       "      <th>count</th>\n",
       "      <th>mean</th>\n",
       "      <th>std</th>\n",
       "      <th>min</th>\n",
       "      <th>25%</th>\n",
       "      <th>50%</th>\n",
       "      <th>75%</th>\n",
       "      <th>max</th>\n",
       "    </tr>\n",
       "  </thead>\n",
       "  <tbody>\n",
       "    <tr>\n",
       "      <th>bedroomcnt</th>\n",
       "      <td>28418.0</td>\n",
       "      <td>3.298086e+00</td>\n",
       "      <td>9.547586e-01</td>\n",
       "      <td>0.00</td>\n",
       "      <td>3.00</td>\n",
       "      <td>3.0</td>\n",
       "      <td>4.00</td>\n",
       "      <td>1.200000e+01</td>\n",
       "    </tr>\n",
       "    <tr>\n",
       "      <th>bathroomcnt</th>\n",
       "      <td>28418.0</td>\n",
       "      <td>2.311070e+00</td>\n",
       "      <td>1.017817e+00</td>\n",
       "      <td>0.00</td>\n",
       "      <td>2.00</td>\n",
       "      <td>2.0</td>\n",
       "      <td>3.00</td>\n",
       "      <td>1.100000e+01</td>\n",
       "    </tr>\n",
       "    <tr>\n",
       "      <th>calculatedfinishedsquarefeet</th>\n",
       "      <td>28345.0</td>\n",
       "      <td>1.931781e+03</td>\n",
       "      <td>1.013657e+03</td>\n",
       "      <td>240.00</td>\n",
       "      <td>1276.00</td>\n",
       "      <td>1669.0</td>\n",
       "      <td>2319.00</td>\n",
       "      <td>3.564000e+04</td>\n",
       "    </tr>\n",
       "    <tr>\n",
       "      <th>unitcnt</th>\n",
       "      <td>17908.0</td>\n",
       "      <td>1.001731e+00</td>\n",
       "      <td>5.539339e-02</td>\n",
       "      <td>1.00</td>\n",
       "      <td>1.00</td>\n",
       "      <td>1.0</td>\n",
       "      <td>1.00</td>\n",
       "      <td>4.000000e+00</td>\n",
       "    </tr>\n",
       "    <tr>\n",
       "      <th>taxvaluedollarcnt</th>\n",
       "      <td>28417.0</td>\n",
       "      <td>5.332912e+05</td>\n",
       "      <td>7.063144e+05</td>\n",
       "      <td>1000.00</td>\n",
       "      <td>198412.00</td>\n",
       "      <td>380733.0</td>\n",
       "      <td>630000.00</td>\n",
       "      <td>2.385837e+07</td>\n",
       "    </tr>\n",
       "    <tr>\n",
       "      <th>yearbuilt</th>\n",
       "      <td>28322.0</td>\n",
       "      <td>1.963908e+03</td>\n",
       "      <td>2.307474e+01</td>\n",
       "      <td>1878.00</td>\n",
       "      <td>1950.00</td>\n",
       "      <td>1961.0</td>\n",
       "      <td>1980.00</td>\n",
       "      <td>2.016000e+03</td>\n",
       "    </tr>\n",
       "    <tr>\n",
       "      <th>taxamount</th>\n",
       "      <td>28417.0</td>\n",
       "      <td>6.486383e+03</td>\n",
       "      <td>8.209046e+03</td>\n",
       "      <td>51.26</td>\n",
       "      <td>2690.92</td>\n",
       "      <td>4703.7</td>\n",
       "      <td>7495.44</td>\n",
       "      <td>2.767978e+05</td>\n",
       "    </tr>\n",
       "    <tr>\n",
       "      <th>fips</th>\n",
       "      <td>28418.0</td>\n",
       "      <td>6.050004e+03</td>\n",
       "      <td>2.191571e+01</td>\n",
       "      <td>6037.00</td>\n",
       "      <td>6037.00</td>\n",
       "      <td>6037.0</td>\n",
       "      <td>6059.00</td>\n",
       "      <td>6.111000e+03</td>\n",
       "    </tr>\n",
       "    <tr>\n",
       "      <th>parcelid</th>\n",
       "      <td>28418.0</td>\n",
       "      <td>1.307361e+07</td>\n",
       "      <td>3.747577e+06</td>\n",
       "      <td>10711855.00</td>\n",
       "      <td>11523237.25</td>\n",
       "      <td>12611531.0</td>\n",
       "      <td>14163710.25</td>\n",
       "      <td>1.676878e+08</td>\n",
       "    </tr>\n",
       "  </tbody>\n",
       "</table>\n",
       "</div>"
      ],
      "text/plain": [
       "                                count          mean           std  \\\n",
       "bedroomcnt                    28418.0  3.298086e+00  9.547586e-01   \n",
       "bathroomcnt                   28418.0  2.311070e+00  1.017817e+00   \n",
       "calculatedfinishedsquarefeet  28345.0  1.931781e+03  1.013657e+03   \n",
       "unitcnt                       17908.0  1.001731e+00  5.539339e-02   \n",
       "taxvaluedollarcnt             28417.0  5.332912e+05  7.063144e+05   \n",
       "yearbuilt                     28322.0  1.963908e+03  2.307474e+01   \n",
       "taxamount                     28417.0  6.486383e+03  8.209046e+03   \n",
       "fips                          28418.0  6.050004e+03  2.191571e+01   \n",
       "parcelid                      28418.0  1.307361e+07  3.747577e+06   \n",
       "\n",
       "                                      min          25%         50%  \\\n",
       "bedroomcnt                           0.00         3.00         3.0   \n",
       "bathroomcnt                          0.00         2.00         2.0   \n",
       "calculatedfinishedsquarefeet       240.00      1276.00      1669.0   \n",
       "unitcnt                              1.00         1.00         1.0   \n",
       "taxvaluedollarcnt                 1000.00    198412.00    380733.0   \n",
       "yearbuilt                         1878.00      1950.00      1961.0   \n",
       "taxamount                           51.26      2690.92      4703.7   \n",
       "fips                              6037.00      6037.00      6037.0   \n",
       "parcelid                      10711855.00  11523237.25  12611531.0   \n",
       "\n",
       "                                      75%           max  \n",
       "bedroomcnt                           4.00  1.200000e+01  \n",
       "bathroomcnt                          3.00  1.100000e+01  \n",
       "calculatedfinishedsquarefeet      2319.00  3.564000e+04  \n",
       "unitcnt                              1.00  4.000000e+00  \n",
       "taxvaluedollarcnt               630000.00  2.385837e+07  \n",
       "yearbuilt                         1980.00  2.016000e+03  \n",
       "taxamount                         7495.44  2.767978e+05  \n",
       "fips                              6059.00  6.111000e+03  \n",
       "parcelid                      14163710.25  1.676878e+08  "
      ]
     },
     "execution_count": 5,
     "metadata": {},
     "output_type": "execute_result"
    }
   ],
   "source": [
    "# Displaying readable summary statistics for numeric columns.\n",
    "zillow_df.describe().T"
   ]
  },
  {
   "cell_type": "code",
   "execution_count": 6,
   "metadata": {},
   "outputs": [
    {
     "name": "stdout",
     "output_type": "stream",
     "text": [
      "<class 'pandas.core.frame.DataFrame'>\n",
      "RangeIndex: 28418 entries, 0 to 28417\n",
      "Data columns (total 9 columns):\n",
      " #   Column                        Non-Null Count  Dtype  \n",
      "---  ------                        --------------  -----  \n",
      " 0   bedroomcnt                    28418 non-null  float64\n",
      " 1   bathroomcnt                   28418 non-null  float64\n",
      " 2   calculatedfinishedsquarefeet  28345 non-null  float64\n",
      " 3   unitcnt                       17908 non-null  float64\n",
      " 4   taxvaluedollarcnt             28417 non-null  float64\n",
      " 5   yearbuilt                     28322 non-null  float64\n",
      " 6   taxamount                     28417 non-null  float64\n",
      " 7   fips                          28418 non-null  float64\n",
      " 8   parcelid                      28418 non-null  int64  \n",
      "dtypes: float64(8), int64(1)\n",
      "memory usage: 2.0 MB\n"
     ]
    }
   ],
   "source": [
    "# Running .info() shows us that the exam3 column is not a numeric data type; it's an object.\n",
    "\n",
    "zillow_df.info()"
   ]
  },
  {
   "cell_type": "code",
   "execution_count": 7,
   "metadata": {},
   "outputs": [
    {
     "data": {
      "text/plain": [
       "bedroomcnt                          0\n",
       "bathroomcnt                         0\n",
       "calculatedfinishedsquarefeet       73\n",
       "unitcnt                         10510\n",
       "taxvaluedollarcnt                   1\n",
       "yearbuilt                          96\n",
       "taxamount                           1\n",
       "fips                                0\n",
       "parcelid                            0\n",
       "dtype: int64"
      ]
     },
     "execution_count": 7,
     "metadata": {},
     "output_type": "execute_result"
    }
   ],
   "source": [
    "#Looking at how many nulls in each column\n",
    "zillow_df.isnull().sum()"
   ]
  },
  {
   "cell_type": "code",
   "execution_count": 8,
   "metadata": {},
   "outputs": [
    {
     "data": {
      "text/plain": [
       "28405"
      ]
     },
     "execution_count": 8,
     "metadata": {},
     "output_type": "execute_result"
    }
   ],
   "source": [
    "# Count duplicate on a bedroom count column\n",
    "zillow_df.bedroomcnt.duplicated().sum()"
   ]
  },
  {
   "cell_type": "code",
   "execution_count": 9,
   "metadata": {},
   "outputs": [
    {
     "data": {
      "text/plain": [
       "28398"
      ]
     },
     "execution_count": 9,
     "metadata": {},
     "output_type": "execute_result"
    }
   ],
   "source": [
    "# Count duplicate on a bathroom count column\n",
    "zillow_df.bathroomcnt.duplicated().sum()"
   ]
  },
  {
   "cell_type": "code",
   "execution_count": 10,
   "metadata": {},
   "outputs": [
    {
     "data": {
      "text/plain": [
       "24360"
      ]
     },
     "execution_count": 10,
     "metadata": {},
     "output_type": "execute_result"
    }
   ],
   "source": [
    "# Count duplicate on a calculatedfinishedsquarefeet column\n",
    "zillow_df.calculatedfinishedsquarefeet.duplicated().sum()"
   ]
  },
  {
   "cell_type": "code",
   "execution_count": 11,
   "metadata": {},
   "outputs": [
    {
     "data": {
      "text/plain": [
       "28414"
      ]
     },
     "execution_count": 11,
     "metadata": {},
     "output_type": "execute_result"
    }
   ],
   "source": [
    "# Count duplicate on a unitcnt column\n",
    "zillow_df.unitcnt.duplicated().sum()"
   ]
  },
  {
   "cell_type": "code",
   "execution_count": 12,
   "metadata": {},
   "outputs": [
    {
     "data": {
      "text/plain": [
       "5484"
      ]
     },
     "execution_count": 12,
     "metadata": {},
     "output_type": "execute_result"
    }
   ],
   "source": [
    "# Count duplicate on a taxvaluedollarcnt column\n",
    "zillow_df.taxvaluedollarcnt.duplicated().sum()"
   ]
  },
  {
   "cell_type": "code",
   "execution_count": 13,
   "metadata": {},
   "outputs": [
    {
     "name": "stdout",
     "output_type": "stream",
     "text": [
      " \n",
      "    bedroomcnt count: 28405\n",
      " \n",
      "    bathroomcnt count: 28398\n",
      " \n",
      "    calculatedfinishedsquarefeet count: 24360\n",
      " \n",
      "    unitcnt count: 28414\n",
      " \n",
      "    taxvaluedollarcnt count: 5484\n",
      " \n",
      "    yearbuilt count: 28286\n",
      " \n",
      "    taxamount count: 479\n",
      " \n",
      "    fips count: 28415\n",
      " \n",
      "    parcelid count: 26\n"
     ]
    }
   ],
   "source": [
    "#created a for loop that goes through each column and counts the duplicates\n",
    "for cols in zillow_df: \n",
    "    count= zillow_df[cols].duplicated().sum()\n",
    "    print(f''' \n",
    "    {cols} count: {count}''')\n",
    "    "
   ]
  },
  {
   "cell_type": "code",
   "execution_count": 14,
   "metadata": {},
   "outputs": [
    {
     "data": {
      "text/html": [
       "<div>\n",
       "<style scoped>\n",
       "    .dataframe tbody tr th:only-of-type {\n",
       "        vertical-align: middle;\n",
       "    }\n",
       "\n",
       "    .dataframe tbody tr th {\n",
       "        vertical-align: top;\n",
       "    }\n",
       "\n",
       "    .dataframe thead th {\n",
       "        text-align: right;\n",
       "    }\n",
       "</style>\n",
       "<table border=\"1\" class=\"dataframe\">\n",
       "  <thead>\n",
       "    <tr style=\"text-align: right;\">\n",
       "      <th></th>\n",
       "      <th>bedroomcnt</th>\n",
       "      <th>bathroomcnt</th>\n",
       "      <th>calculatedfinishedsquarefeet</th>\n",
       "      <th>unitcnt</th>\n",
       "      <th>taxvaluedollarcnt</th>\n",
       "      <th>yearbuilt</th>\n",
       "      <th>taxamount</th>\n",
       "      <th>fips</th>\n",
       "      <th>parcelid</th>\n",
       "    </tr>\n",
       "  </thead>\n",
       "  <tbody>\n",
       "    <tr>\n",
       "      <th>325</th>\n",
       "      <td>2.0</td>\n",
       "      <td>1.0</td>\n",
       "      <td>1082.0</td>\n",
       "      <td>1.0</td>\n",
       "      <td>314100.0</td>\n",
       "      <td>1921.0</td>\n",
       "      <td>3731.14</td>\n",
       "      <td>6037.0</td>\n",
       "      <td>12102046</td>\n",
       "    </tr>\n",
       "    <tr>\n",
       "      <th>417</th>\n",
       "      <td>3.0</td>\n",
       "      <td>2.0</td>\n",
       "      <td>1780.0</td>\n",
       "      <td>1.0</td>\n",
       "      <td>347615.0</td>\n",
       "      <td>1977.0</td>\n",
       "      <td>4538.95</td>\n",
       "      <td>6037.0</td>\n",
       "      <td>12847318</td>\n",
       "    </tr>\n",
       "    <tr>\n",
       "      <th>526</th>\n",
       "      <td>4.0</td>\n",
       "      <td>2.5</td>\n",
       "      <td>2217.0</td>\n",
       "      <td>NaN</td>\n",
       "      <td>98707.0</td>\n",
       "      <td>1972.0</td>\n",
       "      <td>1343.64</td>\n",
       "      <td>6059.0</td>\n",
       "      <td>14050918</td>\n",
       "    </tr>\n",
       "    <tr>\n",
       "      <th>881</th>\n",
       "      <td>2.0</td>\n",
       "      <td>1.0</td>\n",
       "      <td>1166.0</td>\n",
       "      <td>1.0</td>\n",
       "      <td>324880.0</td>\n",
       "      <td>1911.0</td>\n",
       "      <td>4042.46</td>\n",
       "      <td>6037.0</td>\n",
       "      <td>11717962</td>\n",
       "    </tr>\n",
       "    <tr>\n",
       "      <th>1069</th>\n",
       "      <td>4.0</td>\n",
       "      <td>3.5</td>\n",
       "      <td>3453.0</td>\n",
       "      <td>NaN</td>\n",
       "      <td>939019.0</td>\n",
       "      <td>2006.0</td>\n",
       "      <td>14702.96</td>\n",
       "      <td>6059.0</td>\n",
       "      <td>14455319</td>\n",
       "    </tr>\n",
       "    <tr>\n",
       "      <th>1446</th>\n",
       "      <td>2.0</td>\n",
       "      <td>1.0</td>\n",
       "      <td>1025.0</td>\n",
       "      <td>NaN</td>\n",
       "      <td>48107.0</td>\n",
       "      <td>1940.0</td>\n",
       "      <td>862.90</td>\n",
       "      <td>6059.0</td>\n",
       "      <td>14074415</td>\n",
       "    </tr>\n",
       "    <tr>\n",
       "      <th>1670</th>\n",
       "      <td>4.0</td>\n",
       "      <td>3.0</td>\n",
       "      <td>2717.0</td>\n",
       "      <td>NaN</td>\n",
       "      <td>733000.0</td>\n",
       "      <td>1998.0</td>\n",
       "      <td>8314.78</td>\n",
       "      <td>6111.0</td>\n",
       "      <td>17225336</td>\n",
       "    </tr>\n",
       "    <tr>\n",
       "      <th>1964</th>\n",
       "      <td>4.0</td>\n",
       "      <td>4.0</td>\n",
       "      <td>2459.0</td>\n",
       "      <td>NaN</td>\n",
       "      <td>479000.0</td>\n",
       "      <td>2007.0</td>\n",
       "      <td>12285.88</td>\n",
       "      <td>6111.0</td>\n",
       "      <td>162960529</td>\n",
       "    </tr>\n",
       "    <tr>\n",
       "      <th>3220</th>\n",
       "      <td>2.0</td>\n",
       "      <td>1.0</td>\n",
       "      <td>1228.0</td>\n",
       "      <td>1.0</td>\n",
       "      <td>486805.0</td>\n",
       "      <td>1918.0</td>\n",
       "      <td>5892.10</td>\n",
       "      <td>6037.0</td>\n",
       "      <td>12537644</td>\n",
       "    </tr>\n",
       "    <tr>\n",
       "      <th>3825</th>\n",
       "      <td>3.0</td>\n",
       "      <td>3.5</td>\n",
       "      <td>4373.0</td>\n",
       "      <td>NaN</td>\n",
       "      <td>5279300.0</td>\n",
       "      <td>1988.0</td>\n",
       "      <td>55756.66</td>\n",
       "      <td>6059.0</td>\n",
       "      <td>13893511</td>\n",
       "    </tr>\n",
       "    <tr>\n",
       "      <th>5096</th>\n",
       "      <td>4.0</td>\n",
       "      <td>3.0</td>\n",
       "      <td>1816.0</td>\n",
       "      <td>NaN</td>\n",
       "      <td>350701.0</td>\n",
       "      <td>1960.0</td>\n",
       "      <td>3776.38</td>\n",
       "      <td>6111.0</td>\n",
       "      <td>17280166</td>\n",
       "    </tr>\n",
       "    <tr>\n",
       "      <th>5166</th>\n",
       "      <td>4.0</td>\n",
       "      <td>2.0</td>\n",
       "      <td>2126.0</td>\n",
       "      <td>NaN</td>\n",
       "      <td>98473.0</td>\n",
       "      <td>1966.0</td>\n",
       "      <td>1435.68</td>\n",
       "      <td>6059.0</td>\n",
       "      <td>14254548</td>\n",
       "    </tr>\n",
       "    <tr>\n",
       "      <th>7127</th>\n",
       "      <td>2.0</td>\n",
       "      <td>2.0</td>\n",
       "      <td>1332.0</td>\n",
       "      <td>1.0</td>\n",
       "      <td>236967.0</td>\n",
       "      <td>1948.0</td>\n",
       "      <td>3044.97</td>\n",
       "      <td>6037.0</td>\n",
       "      <td>10879060</td>\n",
       "    </tr>\n",
       "    <tr>\n",
       "      <th>8339</th>\n",
       "      <td>3.0</td>\n",
       "      <td>3.0</td>\n",
       "      <td>3305.0</td>\n",
       "      <td>1.0</td>\n",
       "      <td>1001718.0</td>\n",
       "      <td>1939.0</td>\n",
       "      <td>11569.34</td>\n",
       "      <td>6037.0</td>\n",
       "      <td>12137395</td>\n",
       "    </tr>\n",
       "    <tr>\n",
       "      <th>8518</th>\n",
       "      <td>12.0</td>\n",
       "      <td>6.0</td>\n",
       "      <td>8469.0</td>\n",
       "      <td>2.0</td>\n",
       "      <td>2485282.0</td>\n",
       "      <td>1909.0</td>\n",
       "      <td>30342.87</td>\n",
       "      <td>6037.0</td>\n",
       "      <td>11991059</td>\n",
       "    </tr>\n",
       "    <tr>\n",
       "      <th>8519</th>\n",
       "      <td>12.0</td>\n",
       "      <td>6.0</td>\n",
       "      <td>8469.0</td>\n",
       "      <td>2.0</td>\n",
       "      <td>2485282.0</td>\n",
       "      <td>1909.0</td>\n",
       "      <td>30342.87</td>\n",
       "      <td>6037.0</td>\n",
       "      <td>11991059</td>\n",
       "    </tr>\n",
       "    <tr>\n",
       "      <th>9289</th>\n",
       "      <td>0.0</td>\n",
       "      <td>0.0</td>\n",
       "      <td>NaN</td>\n",
       "      <td>NaN</td>\n",
       "      <td>1523182.0</td>\n",
       "      <td>NaN</td>\n",
       "      <td>18177.58</td>\n",
       "      <td>6037.0</td>\n",
       "      <td>10857130</td>\n",
       "    </tr>\n",
       "    <tr>\n",
       "      <th>9290</th>\n",
       "      <td>0.0</td>\n",
       "      <td>0.0</td>\n",
       "      <td>NaN</td>\n",
       "      <td>NaN</td>\n",
       "      <td>1523182.0</td>\n",
       "      <td>NaN</td>\n",
       "      <td>18177.58</td>\n",
       "      <td>6037.0</td>\n",
       "      <td>10857130</td>\n",
       "    </tr>\n",
       "    <tr>\n",
       "      <th>10886</th>\n",
       "      <td>2.0</td>\n",
       "      <td>1.0</td>\n",
       "      <td>1091.0</td>\n",
       "      <td>NaN</td>\n",
       "      <td>813030.0</td>\n",
       "      <td>1926.0</td>\n",
       "      <td>8984.76</td>\n",
       "      <td>6059.0</td>\n",
       "      <td>14097534</td>\n",
       "    </tr>\n",
       "    <tr>\n",
       "      <th>12534</th>\n",
       "      <td>3.0</td>\n",
       "      <td>1.0</td>\n",
       "      <td>1183.0</td>\n",
       "      <td>1.0</td>\n",
       "      <td>179190.0</td>\n",
       "      <td>1929.0</td>\n",
       "      <td>2428.39</td>\n",
       "      <td>6037.0</td>\n",
       "      <td>12121210</td>\n",
       "    </tr>\n",
       "    <tr>\n",
       "      <th>14453</th>\n",
       "      <td>4.0</td>\n",
       "      <td>3.0</td>\n",
       "      <td>2354.0</td>\n",
       "      <td>1.0</td>\n",
       "      <td>97502.0</td>\n",
       "      <td>1965.0</td>\n",
       "      <td>5962.64</td>\n",
       "      <td>6037.0</td>\n",
       "      <td>12621730</td>\n",
       "    </tr>\n",
       "    <tr>\n",
       "      <th>15935</th>\n",
       "      <td>2.0</td>\n",
       "      <td>1.0</td>\n",
       "      <td>1178.0</td>\n",
       "      <td>1.0</td>\n",
       "      <td>72522.0</td>\n",
       "      <td>1943.0</td>\n",
       "      <td>824.09</td>\n",
       "      <td>6037.0</td>\n",
       "      <td>10956664</td>\n",
       "    </tr>\n",
       "    <tr>\n",
       "      <th>16058</th>\n",
       "      <td>2.0</td>\n",
       "      <td>2.0</td>\n",
       "      <td>1441.0</td>\n",
       "      <td>NaN</td>\n",
       "      <td>275910.0</td>\n",
       "      <td>1981.0</td>\n",
       "      <td>2908.42</td>\n",
       "      <td>6111.0</td>\n",
       "      <td>17139939</td>\n",
       "    </tr>\n",
       "    <tr>\n",
       "      <th>17676</th>\n",
       "      <td>3.0</td>\n",
       "      <td>3.0</td>\n",
       "      <td>1684.0</td>\n",
       "      <td>NaN</td>\n",
       "      <td>745361.0</td>\n",
       "      <td>1963.0</td>\n",
       "      <td>7562.76</td>\n",
       "      <td>6059.0</td>\n",
       "      <td>14448410</td>\n",
       "    </tr>\n",
       "    <tr>\n",
       "      <th>21187</th>\n",
       "      <td>11.0</td>\n",
       "      <td>7.0</td>\n",
       "      <td>6111.0</td>\n",
       "      <td>4.0</td>\n",
       "      <td>5373376.0</td>\n",
       "      <td>1949.0</td>\n",
       "      <td>64396.38</td>\n",
       "      <td>6037.0</td>\n",
       "      <td>10852812</td>\n",
       "    </tr>\n",
       "    <tr>\n",
       "      <th>22587</th>\n",
       "      <td>3.0</td>\n",
       "      <td>2.0</td>\n",
       "      <td>1713.0</td>\n",
       "      <td>NaN</td>\n",
       "      <td>498684.0</td>\n",
       "      <td>1963.0</td>\n",
       "      <td>5258.54</td>\n",
       "      <td>6111.0</td>\n",
       "      <td>17282392</td>\n",
       "    </tr>\n",
       "  </tbody>\n",
       "</table>\n",
       "</div>"
      ],
      "text/plain": [
       "       bedroomcnt  bathroomcnt  calculatedfinishedsquarefeet  unitcnt  \\\n",
       "325           2.0          1.0                        1082.0      1.0   \n",
       "417           3.0          2.0                        1780.0      1.0   \n",
       "526           4.0          2.5                        2217.0      NaN   \n",
       "881           2.0          1.0                        1166.0      1.0   \n",
       "1069          4.0          3.5                        3453.0      NaN   \n",
       "1446          2.0          1.0                        1025.0      NaN   \n",
       "1670          4.0          3.0                        2717.0      NaN   \n",
       "1964          4.0          4.0                        2459.0      NaN   \n",
       "3220          2.0          1.0                        1228.0      1.0   \n",
       "3825          3.0          3.5                        4373.0      NaN   \n",
       "5096          4.0          3.0                        1816.0      NaN   \n",
       "5166          4.0          2.0                        2126.0      NaN   \n",
       "7127          2.0          2.0                        1332.0      1.0   \n",
       "8339          3.0          3.0                        3305.0      1.0   \n",
       "8518         12.0          6.0                        8469.0      2.0   \n",
       "8519         12.0          6.0                        8469.0      2.0   \n",
       "9289          0.0          0.0                           NaN      NaN   \n",
       "9290          0.0          0.0                           NaN      NaN   \n",
       "10886         2.0          1.0                        1091.0      NaN   \n",
       "12534         3.0          1.0                        1183.0      1.0   \n",
       "14453         4.0          3.0                        2354.0      1.0   \n",
       "15935         2.0          1.0                        1178.0      1.0   \n",
       "16058         2.0          2.0                        1441.0      NaN   \n",
       "17676         3.0          3.0                        1684.0      NaN   \n",
       "21187        11.0          7.0                        6111.0      4.0   \n",
       "22587         3.0          2.0                        1713.0      NaN   \n",
       "\n",
       "       taxvaluedollarcnt  yearbuilt  taxamount    fips   parcelid  \n",
       "325             314100.0     1921.0    3731.14  6037.0   12102046  \n",
       "417             347615.0     1977.0    4538.95  6037.0   12847318  \n",
       "526              98707.0     1972.0    1343.64  6059.0   14050918  \n",
       "881             324880.0     1911.0    4042.46  6037.0   11717962  \n",
       "1069            939019.0     2006.0   14702.96  6059.0   14455319  \n",
       "1446             48107.0     1940.0     862.90  6059.0   14074415  \n",
       "1670            733000.0     1998.0    8314.78  6111.0   17225336  \n",
       "1964            479000.0     2007.0   12285.88  6111.0  162960529  \n",
       "3220            486805.0     1918.0    5892.10  6037.0   12537644  \n",
       "3825           5279300.0     1988.0   55756.66  6059.0   13893511  \n",
       "5096            350701.0     1960.0    3776.38  6111.0   17280166  \n",
       "5166             98473.0     1966.0    1435.68  6059.0   14254548  \n",
       "7127            236967.0     1948.0    3044.97  6037.0   10879060  \n",
       "8339           1001718.0     1939.0   11569.34  6037.0   12137395  \n",
       "8518           2485282.0     1909.0   30342.87  6037.0   11991059  \n",
       "8519           2485282.0     1909.0   30342.87  6037.0   11991059  \n",
       "9289           1523182.0        NaN   18177.58  6037.0   10857130  \n",
       "9290           1523182.0        NaN   18177.58  6037.0   10857130  \n",
       "10886           813030.0     1926.0    8984.76  6059.0   14097534  \n",
       "12534           179190.0     1929.0    2428.39  6037.0   12121210  \n",
       "14453            97502.0     1965.0    5962.64  6037.0   12621730  \n",
       "15935            72522.0     1943.0     824.09  6037.0   10956664  \n",
       "16058           275910.0     1981.0    2908.42  6111.0   17139939  \n",
       "17676           745361.0     1963.0    7562.76  6059.0   14448410  \n",
       "21187          5373376.0     1949.0   64396.38  6037.0   10852812  \n",
       "22587           498684.0     1963.0    5258.54  6111.0   17282392  "
      ]
     },
     "execution_count": 14,
     "metadata": {},
     "output_type": "execute_result"
    }
   ],
   "source": [
    "#33 rows have duplicates as shown here with a mask\n",
    "zillow_df[zillow_df.duplicated()== True]"
   ]
  },
  {
   "cell_type": "code",
   "execution_count": 15,
   "metadata": {},
   "outputs": [
    {
     "data": {
      "text/plain": [
       "False    28392\n",
       "True        26\n",
       "dtype: int64"
      ]
     },
     "execution_count": 15,
     "metadata": {},
     "output_type": "execute_result"
    }
   ],
   "source": [
    "# looking at duplicates by unique values\n",
    "zillow_df.duplicated().value_counts()"
   ]
  },
  {
   "cell_type": "markdown",
   "metadata": {},
   "source": [
    "## Acquire Takeways:\n",
    "- need to drop nulls from calculatedfinishedsquarefeet, unitcnt, taxvaluedollarcnt, yearbuilt, taxamount \n",
    "- need to drop duplicates by parcelid (this is a unique identifier)\n",
    "- all datatypes look good, no changes needed"
   ]
  },
  {
   "cell_type": "markdown",
   "metadata": {},
   "source": [
    "# Prepare"
   ]
  },
  {
   "cell_type": "code",
   "execution_count": 28,
   "metadata": {},
   "outputs": [
    {
     "data": {
      "text/plain": [
       "0"
      ]
     },
     "execution_count": 28,
     "metadata": {},
     "output_type": "execute_result"
    }
   ],
   "source": [
    "# Count duplicate on a bedroom count column\n",
    "zillow_df['parcelid'].duplicated().sum()"
   ]
  },
  {
   "cell_type": "code",
   "execution_count": 29,
   "metadata": {},
   "outputs": [],
   "source": [
    "#drop duplicated by unique identifier parcelid column\n",
    "zillow_df.drop_duplicates(subset=['parcelid'], inplace= True)"
   ]
  },
  {
   "cell_type": "code",
   "execution_count": 30,
   "metadata": {},
   "outputs": [
    {
     "data": {
      "text/plain": [
       "(17889, 10)"
      ]
     },
     "execution_count": 30,
     "metadata": {},
     "output_type": "execute_result"
    }
   ],
   "source": [
    "#Looking at shape after dropping columns\n",
    "zillow_df.shape"
   ]
  },
  {
   "cell_type": "code",
   "execution_count": 31,
   "metadata": {},
   "outputs": [],
   "source": [
    "# Drop all rows with any Null values, assign to df, and verify.\n",
    "zillow_df = zillow_df.dropna()\n"
   ]
  },
  {
   "cell_type": "code",
   "execution_count": 32,
   "metadata": {},
   "outputs": [],
   "source": [
    "# create Tax_rate column\n",
    "zillow_df['tax_rate'] =zillow_df['taxamount']/ zillow_df['taxvaluedollarcnt']"
   ]
  },
  {
   "cell_type": "code",
   "execution_count": 33,
   "metadata": {},
   "outputs": [
    {
     "data": {
      "image/png": "[encoded data removed]",
      "text/plain": [
       "<Figure size 1152x216 with 3 Axes>"
      ]
     },
     "metadata": {
      "needs_background": "light"
     },
     "output_type": "display_data"
    }
   ],
   "source": [
    "#Looking to see outliers were removed, can see all columns are closer to a normal distribution\n",
    "\n",
    "# Plot the distributions\n",
    "plt.figure(figsize=(16, 3))\n",
    "\n",
    "# List of columns\n",
    "cols = ['calculatedfinishedsquarefeet', 'bedroomcnt', 'bathroomcnt']\n",
    "\n",
    "for i, col in enumerate(cols):\n",
    "\n",
    "    # i starts at 0, but plot nos should start at 1\n",
    "    plot_number = i + 1 \n",
    "\n",
    "    # Create subplot.\n",
    "    plt.subplot(1,4, plot_number)\n",
    "\n",
    "    # Title with column name.\n",
    "    plt.title(col)\n",
    "\n",
    "    # Display histogram for column.\n",
    "    zillow_df[col].hist(bins=5)\n",
    "\n",
    "    # Hide gridlines.\n",
    "    plt.grid(False)"
   ]
  },
  {
   "cell_type": "markdown",
   "metadata": {},
   "source": [
    "## Drop outliers"
   ]
  },
  {
   "cell_type": "code",
   "execution_count": 34,
   "metadata": {},
   "outputs": [],
   "source": [
    "#Function to see outliers\n",
    "def outlier_bound_calculation(df, variable):\n",
    "    '''\n",
    "    calcualtes the lower and upper bound to locate outliers in variables\n",
    "    '''\n",
    "    quartile1, quartile3 = np.percentile(df[variable], [25,75])\n",
    "    IQR_value = quartile3 - quartile1\n",
    "    lower_bound = quartile1 - (1.5 * IQR_value)\n",
    "    upper_bound = quartile3 + (1.5 * IQR_value)\n",
    "    '''\n",
    "    returns the lowerbound and upperbound values\n",
    "    '''\n",
    "    return print(f'For {variable} the lower bound is {lower_bound} and  upper bound is {upper_bound}')"
   ]
  },
  {
   "cell_type": "code",
   "execution_count": 35,
   "metadata": {},
   "outputs": [
    {
     "name": "stdout",
     "output_type": "stream",
     "text": [
      "For calculatedfinishedsquarefeet the lower bound is -189.5 and  upper bound is 3550.5\n"
     ]
    }
   ],
   "source": [
    "outlier_bound_calculation(zillow_df, 'calculatedfinishedsquarefeet')"
   ]
  },
  {
   "cell_type": "code",
   "execution_count": 41,
   "metadata": {},
   "outputs": [],
   "source": [
    "#remove outliers from calculatedfinishedsquarefeet\n",
    "zillow_df= zillow_df[zillow_df.calculatedfinishedsquarefeet > -189.5]\n",
    "zillow_df= zillow_df[zillow_df.calculatedfinishedsquarefeet < 3550.5]"
   ]
  },
  {
   "cell_type": "code",
   "execution_count": 54,
   "metadata": {},
   "outputs": [
    {
     "data": {
      "text/html": [
       "<div>\n",
       "<style scoped>\n",
       "    .dataframe tbody tr th:only-of-type {\n",
       "        vertical-align: middle;\n",
       "    }\n",
       "\n",
       "    .dataframe tbody tr th {\n",
       "        vertical-align: top;\n",
       "    }\n",
       "\n",
       "    .dataframe thead th {\n",
       "        text-align: right;\n",
       "    }\n",
       "</style>\n",
       "<table border=\"1\" class=\"dataframe\">\n",
       "  <thead>\n",
       "    <tr style=\"text-align: right;\">\n",
       "      <th></th>\n",
       "      <th>count</th>\n",
       "      <th>mean</th>\n",
       "      <th>std</th>\n",
       "      <th>min</th>\n",
       "      <th>25%</th>\n",
       "      <th>50%</th>\n",
       "      <th>75%</th>\n",
       "      <th>max</th>\n",
       "    </tr>\n",
       "  </thead>\n",
       "  <tbody>\n",
       "    <tr>\n",
       "      <th>bedroomcnt</th>\n",
       "      <td>16466.0</td>\n",
       "      <td>3.132637e+00</td>\n",
       "      <td>7.860892e-01</td>\n",
       "      <td>2.000000e+00</td>\n",
       "      <td>3.000000e+00</td>\n",
       "      <td>3.000000e+00</td>\n",
       "      <td>4.000000e+00</td>\n",
       "      <td>5.000000e+00</td>\n",
       "    </tr>\n",
       "    <tr>\n",
       "      <th>bathroomcnt</th>\n",
       "      <td>16466.0</td>\n",
       "      <td>2.055144e+00</td>\n",
       "      <td>7.844499e-01</td>\n",
       "      <td>1.000000e+00</td>\n",
       "      <td>2.000000e+00</td>\n",
       "      <td>2.000000e+00</td>\n",
       "      <td>3.000000e+00</td>\n",
       "      <td>4.000000e+00</td>\n",
       "    </tr>\n",
       "    <tr>\n",
       "      <th>calculatedfinishedsquarefeet</th>\n",
       "      <td>16466.0</td>\n",
       "      <td>1.661716e+03</td>\n",
       "      <td>6.151294e+02</td>\n",
       "      <td>3.260000e+02</td>\n",
       "      <td>1.203000e+03</td>\n",
       "      <td>1.531000e+03</td>\n",
       "      <td>2.010000e+03</td>\n",
       "      <td>3.546000e+03</td>\n",
       "    </tr>\n",
       "    <tr>\n",
       "      <th>unitcnt</th>\n",
       "      <td>16466.0</td>\n",
       "      <td>1.000668e+00</td>\n",
       "      <td>2.583868e-02</td>\n",
       "      <td>1.000000e+00</td>\n",
       "      <td>1.000000e+00</td>\n",
       "      <td>1.000000e+00</td>\n",
       "      <td>1.000000e+00</td>\n",
       "      <td>2.000000e+00</td>\n",
       "    </tr>\n",
       "    <tr>\n",
       "      <th>taxvaluedollarcnt</th>\n",
       "      <td>16466.0</td>\n",
       "      <td>4.140726e+05</td>\n",
       "      <td>4.396219e+05</td>\n",
       "      <td>1.000000e+03</td>\n",
       "      <td>1.599828e+05</td>\n",
       "      <td>3.126130e+05</td>\n",
       "      <td>5.163295e+05</td>\n",
       "      <td>1.087391e+07</td>\n",
       "    </tr>\n",
       "    <tr>\n",
       "      <th>yearbuilt</th>\n",
       "      <td>16466.0</td>\n",
       "      <td>1.956520e+03</td>\n",
       "      <td>2.192279e+01</td>\n",
       "      <td>1.878000e+03</td>\n",
       "      <td>1.947000e+03</td>\n",
       "      <td>1.954000e+03</td>\n",
       "      <td>1.966000e+03</td>\n",
       "      <td>2.016000e+03</td>\n",
       "    </tr>\n",
       "    <tr>\n",
       "      <th>taxamount</th>\n",
       "      <td>16466.0</td>\n",
       "      <td>5.292535e+03</td>\n",
       "      <td>5.140047e+03</td>\n",
       "      <td>1.208400e+02</td>\n",
       "      <td>2.337832e+03</td>\n",
       "      <td>4.160790e+03</td>\n",
       "      <td>6.482358e+03</td>\n",
       "      <td>1.293654e+05</td>\n",
       "    </tr>\n",
       "    <tr>\n",
       "      <th>fips</th>\n",
       "      <td>16466.0</td>\n",
       "      <td>6.037006e+03</td>\n",
       "      <td>6.016195e-01</td>\n",
       "      <td>6.037000e+03</td>\n",
       "      <td>6.037000e+03</td>\n",
       "      <td>6.037000e+03</td>\n",
       "      <td>6.037000e+03</td>\n",
       "      <td>6.111000e+03</td>\n",
       "    </tr>\n",
       "    <tr>\n",
       "      <th>parcelid</th>\n",
       "      <td>16466.0</td>\n",
       "      <td>1.189747e+07</td>\n",
       "      <td>2.224930e+06</td>\n",
       "      <td>1.071186e+07</td>\n",
       "      <td>1.119908e+07</td>\n",
       "      <td>1.189017e+07</td>\n",
       "      <td>1.249948e+07</td>\n",
       "      <td>1.676380e+08</td>\n",
       "    </tr>\n",
       "    <tr>\n",
       "      <th>tax_rate</th>\n",
       "      <td>16466.0</td>\n",
       "      <td>1.415182e-02</td>\n",
       "      <td>8.867406e-03</td>\n",
       "      <td>8.574462e-04</td>\n",
       "      <td>1.215152e-02</td>\n",
       "      <td>1.269762e-02</td>\n",
       "      <td>1.447394e-02</td>\n",
       "      <td>8.164900e-01</td>\n",
       "    </tr>\n",
       "  </tbody>\n",
       "</table>\n",
       "</div>"
      ],
      "text/plain": [
       "                                count          mean           std  \\\n",
       "bedroomcnt                    16466.0  3.132637e+00  7.860892e-01   \n",
       "bathroomcnt                   16466.0  2.055144e+00  7.844499e-01   \n",
       "calculatedfinishedsquarefeet  16466.0  1.661716e+03  6.151294e+02   \n",
       "unitcnt                       16466.0  1.000668e+00  2.583868e-02   \n",
       "taxvaluedollarcnt             16466.0  4.140726e+05  4.396219e+05   \n",
       "yearbuilt                     16466.0  1.956520e+03  2.192279e+01   \n",
       "taxamount                     16466.0  5.292535e+03  5.140047e+03   \n",
       "fips                          16466.0  6.037006e+03  6.016195e-01   \n",
       "parcelid                      16466.0  1.189747e+07  2.224930e+06   \n",
       "tax_rate                      16466.0  1.415182e-02  8.867406e-03   \n",
       "\n",
       "                                       min           25%           50%  \\\n",
       "bedroomcnt                    2.000000e+00  3.000000e+00  3.000000e+00   \n",
       "bathroomcnt                   1.000000e+00  2.000000e+00  2.000000e+00   \n",
       "calculatedfinishedsquarefeet  3.260000e+02  1.203000e+03  1.531000e+03   \n",
       "unitcnt                       1.000000e+00  1.000000e+00  1.000000e+00   \n",
       "taxvaluedollarcnt             1.000000e+03  1.599828e+05  3.126130e+05   \n",
       "yearbuilt                     1.878000e+03  1.947000e+03  1.954000e+03   \n",
       "taxamount                     1.208400e+02  2.337832e+03  4.160790e+03   \n",
       "fips                          6.037000e+03  6.037000e+03  6.037000e+03   \n",
       "parcelid                      1.071186e+07  1.119908e+07  1.189017e+07   \n",
       "tax_rate                      8.574462e-04  1.215152e-02  1.269762e-02   \n",
       "\n",
       "                                       75%           max  \n",
       "bedroomcnt                    4.000000e+00  5.000000e+00  \n",
       "bathroomcnt                   3.000000e+00  4.000000e+00  \n",
       "calculatedfinishedsquarefeet  2.010000e+03  3.546000e+03  \n",
       "unitcnt                       1.000000e+00  2.000000e+00  \n",
       "taxvaluedollarcnt             5.163295e+05  1.087391e+07  \n",
       "yearbuilt                     1.966000e+03  2.016000e+03  \n",
       "taxamount                     6.482358e+03  1.293654e+05  \n",
       "fips                          6.037000e+03  6.111000e+03  \n",
       "parcelid                      1.249948e+07  1.676380e+08  \n",
       "tax_rate                      1.447394e-02  8.164900e-01  "
      ]
     },
     "execution_count": 54,
     "metadata": {},
     "output_type": "execute_result"
    }
   ],
   "source": [
    "#making sure it did what it is suppose to\n",
    "zillow_df.describe().T"
   ]
  },
  {
   "cell_type": "code",
   "execution_count": 46,
   "metadata": {},
   "outputs": [
    {
     "name": "stdout",
     "output_type": "stream",
     "text": [
      "For bedroomcnt the lower bound is 1.5 and  upper bound is 5.5\n"
     ]
    }
   ],
   "source": [
    "outlier_bound_calculation(zillow_df, 'bedroomcnt')"
   ]
  },
  {
   "cell_type": "code",
   "execution_count": 47,
   "metadata": {},
   "outputs": [],
   "source": [
    "#remove outliers from bedroomcnt\n",
    "zillow_df= zillow_df[zillow_df.bedroomcnt >1.5]\n",
    "zillow_df= zillow_df[zillow_df.bedroomcnt < 5.5]"
   ]
  },
  {
   "cell_type": "code",
   "execution_count": 37,
   "metadata": {},
   "outputs": [
    {
     "name": "stdout",
     "output_type": "stream",
     "text": [
      "For bathroomcnt the lower bound is 0.5 and  upper bound is 4.5\n"
     ]
    }
   ],
   "source": [
    "outlier_bound_calculation(zillow_df, 'bathroomcnt')"
   ]
  },
  {
   "cell_type": "code",
   "execution_count": 48,
   "metadata": {},
   "outputs": [],
   "source": [
    "#remove outliers from bedroomcnt\n",
    "zillow_df= zillow_df[zillow_df.bathroomcnt > 0.5]\n",
    "zillow_df= zillow_df[zillow_df.bathroomcnt < 4.5]"
   ]
  },
  {
   "cell_type": "code",
   "execution_count": 49,
   "metadata": {},
   "outputs": [
    {
     "data": {
      "image/png": "[encoded data removed]",
      "text/plain": [
       "<Figure size 1152x216 with 3 Axes>"
      ]
     },
     "metadata": {
      "needs_background": "light"
     },
     "output_type": "display_data"
    }
   ],
   "source": [
    "# Visualize to make sure outliers were removed, all graphs are closer to normal distribution\n",
    "# Plot the distributions\n",
    "plt.figure(figsize=(16, 3))\n",
    "\n",
    "# List of columns\n",
    "cols = ['calculatedfinishedsquarefeet', 'bedroomcnt', 'bathroomcnt']\n",
    "\n",
    "for i, col in enumerate(cols):\n",
    "\n",
    "    # i starts at 0, but plot nos should start at 1\n",
    "    plot_number = i + 1 \n",
    "\n",
    "    # Create subplot.\n",
    "    plt.subplot(1,4, plot_number)\n",
    "\n",
    "    # Title with column name.\n",
    "    plt.title(col)\n",
    "\n",
    "    # Display histogram for column.\n",
    "    zillow_df[col].hist(bins=5)\n",
    "\n",
    "    # Hide gridlines.\n",
    "    plt.grid(False)"
   ]
  },
  {
   "cell_type": "code",
   "execution_count": 50,
   "metadata": {},
   "outputs": [
    {
     "data": {
      "text/html": [
       "<div>\n",
       "<style scoped>\n",
       "    .dataframe tbody tr th:only-of-type {\n",
       "        vertical-align: middle;\n",
       "    }\n",
       "\n",
       "    .dataframe tbody tr th {\n",
       "        vertical-align: top;\n",
       "    }\n",
       "\n",
       "    .dataframe thead th {\n",
       "        text-align: right;\n",
       "    }\n",
       "</style>\n",
       "<table border=\"1\" class=\"dataframe\">\n",
       "  <thead>\n",
       "    <tr style=\"text-align: right;\">\n",
       "      <th></th>\n",
       "      <th>bedroomcnt</th>\n",
       "      <th>bathroomcnt</th>\n",
       "      <th>calculatedfinishedsquarefeet</th>\n",
       "      <th>unitcnt</th>\n",
       "      <th>taxvaluedollarcnt</th>\n",
       "      <th>yearbuilt</th>\n",
       "      <th>taxamount</th>\n",
       "      <th>fips</th>\n",
       "      <th>parcelid</th>\n",
       "      <th>tax_rate</th>\n",
       "    </tr>\n",
       "  </thead>\n",
       "  <tbody>\n",
       "    <tr>\n",
       "      <th>0</th>\n",
       "      <td>3.0</td>\n",
       "      <td>2.0</td>\n",
       "      <td>1316.0</td>\n",
       "      <td>1.0</td>\n",
       "      <td>205123.0</td>\n",
       "      <td>1923.0</td>\n",
       "      <td>2627.48</td>\n",
       "      <td>6037.0</td>\n",
       "      <td>11721753</td>\n",
       "      <td>0.012809</td>\n",
       "    </tr>\n",
       "    <tr>\n",
       "      <th>1</th>\n",
       "      <td>3.0</td>\n",
       "      <td>2.0</td>\n",
       "      <td>1458.0</td>\n",
       "      <td>1.0</td>\n",
       "      <td>136104.0</td>\n",
       "      <td>1970.0</td>\n",
       "      <td>2319.90</td>\n",
       "      <td>6037.0</td>\n",
       "      <td>11289917</td>\n",
       "      <td>0.017045</td>\n",
       "    </tr>\n",
       "    <tr>\n",
       "      <th>2</th>\n",
       "      <td>2.0</td>\n",
       "      <td>1.0</td>\n",
       "      <td>1421.0</td>\n",
       "      <td>1.0</td>\n",
       "      <td>35606.0</td>\n",
       "      <td>1911.0</td>\n",
       "      <td>543.69</td>\n",
       "      <td>6037.0</td>\n",
       "      <td>11705026</td>\n",
       "      <td>0.015270</td>\n",
       "    </tr>\n",
       "    <tr>\n",
       "      <th>4</th>\n",
       "      <td>3.0</td>\n",
       "      <td>2.0</td>\n",
       "      <td>1491.0</td>\n",
       "      <td>1.0</td>\n",
       "      <td>107110.0</td>\n",
       "      <td>1955.0</td>\n",
       "      <td>1399.27</td>\n",
       "      <td>6037.0</td>\n",
       "      <td>11446756</td>\n",
       "      <td>0.013064</td>\n",
       "    </tr>\n",
       "    <tr>\n",
       "      <th>5</th>\n",
       "      <td>3.0</td>\n",
       "      <td>2.0</td>\n",
       "      <td>1650.0</td>\n",
       "      <td>1.0</td>\n",
       "      <td>614000.0</td>\n",
       "      <td>1949.0</td>\n",
       "      <td>7673.19</td>\n",
       "      <td>6037.0</td>\n",
       "      <td>11389003</td>\n",
       "      <td>0.012497</td>\n",
       "    </tr>\n",
       "  </tbody>\n",
       "</table>\n",
       "</div>"
      ],
      "text/plain": [
       "   bedroomcnt  bathroomcnt  calculatedfinishedsquarefeet  unitcnt  \\\n",
       "0         3.0          2.0                        1316.0      1.0   \n",
       "1         3.0          2.0                        1458.0      1.0   \n",
       "2         2.0          1.0                        1421.0      1.0   \n",
       "4         3.0          2.0                        1491.0      1.0   \n",
       "5         3.0          2.0                        1650.0      1.0   \n",
       "\n",
       "   taxvaluedollarcnt  yearbuilt  taxamount    fips  parcelid  tax_rate  \n",
       "0           205123.0     1923.0    2627.48  6037.0  11721753  0.012809  \n",
       "1           136104.0     1970.0    2319.90  6037.0  11289917  0.017045  \n",
       "2            35606.0     1911.0     543.69  6037.0  11705026  0.015270  \n",
       "4           107110.0     1955.0    1399.27  6037.0  11446756  0.013064  \n",
       "5           614000.0     1949.0    7673.19  6037.0  11389003  0.012497  "
      ]
     },
     "execution_count": 50,
     "metadata": {},
     "output_type": "execute_result"
    }
   ],
   "source": [
    "zillow_df.head()"
   ]
  },
  {
   "cell_type": "code",
   "execution_count": null,
   "metadata": {},
   "outputs": [],
   "source": []
  },
  {
   "cell_type": "markdown",
   "metadata": {},
   "source": [
    "## Hypothesis 1:\n",
    "- HO: Square feet has no affect on tax value dollar count\n",
    "- Ha: Square feet has an affect on tax value dollar count"
   ]
  },
  {
   "cell_type": "code",
   "execution_count": null,
   "metadata": {},
   "outputs": [],
   "source": []
  },
  {
   "cell_type": "code",
   "execution_count": null,
   "metadata": {},
   "outputs": [],
   "source": []
  },
  {
   "cell_type": "markdown",
   "metadata": {},
   "source": [
    "## Hypothesis 2:\n",
    "- HO: bedroom count has no affect on tax value dollar count\n",
    "- Ha: bedroom count has an affect on tax value dollar count"
   ]
  },
  {
   "cell_type": "code",
   "execution_count": null,
   "metadata": {},
   "outputs": [],
   "source": []
  },
  {
   "cell_type": "code",
   "execution_count": null,
   "metadata": {},
   "outputs": [],
   "source": []
  },
  {
   "cell_type": "code",
   "execution_count": null,
   "metadata": {},
   "outputs": [],
   "source": []
  },
  {
   "cell_type": "markdown",
   "metadata": {},
   "source": [
    "## Hypothesis 3:\n",
    "- HO: bathroom count has no affect on tax value dollar count\n",
    "- Ha: bathroom count has an affect on tax value dollar count"
   ]
  },
  {
   "cell_type": "code",
   "execution_count": null,
   "metadata": {},
   "outputs": [],
   "source": []
  },
  {
   "cell_type": "code",
   "execution_count": null,
   "metadata": {},
   "outputs": [],
   "source": []
  },
  {
   "cell_type": "code",
   "execution_count": null,
   "metadata": {},
   "outputs": [],
   "source": []
  }
 ],
 "metadata": {
  "kernelspec": {
   "display_name": "Python 3",
   "language": "python",
   "name": "python3"
  },
  "language_info": {
   "codemirror_mode": {
    "name": "ipython",
    "version": 3
   },
   "file_extension": ".py",
   "mimetype": "text/x-python",
   "name": "python",
   "nbconvert_exporter": "python",
   "pygments_lexer": "ipython3",
   "version": "3.8.5"
  }
 },
 "nbformat": 4,
 "nbformat_minor": 4
}
